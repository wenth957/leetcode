{
 "cells": [
  {
   "cell_type": "markdown",
   "source": [
    "# 1.1 变量类型\r\n",
    " - 整型、字符串、浮点型\r\n",
    " - 列表、字典、元组、布尔型"
   ],
   "metadata": {}
  },
  {
   "cell_type": "code",
   "execution_count": null,
   "source": [
    "print(type(10))\r\n",
    "print(type(str(10)))\r\n",
    "print(type(float(10)))"
   ],
   "outputs": [],
   "metadata": {}
  },
  {
   "cell_type": "code",
   "execution_count": null,
   "source": [
    "# 变量的定义、计算、赋值\r\n",
    "# 在python中可以直接进行运算，也可以赋值给变量对变量进行运算\r\n",
    "a = 10\r\n",
    "print(a)\r\n",
    "a = 100\r\n",
    "print(a)\r\n",
    "b = 3.14\r\n",
    "print(a*b)\r\n",
    "# python属于动态语言，变量的类型会根据情况自动发生变化"
   ],
   "outputs": [],
   "metadata": {}
  },
  {
   "cell_type": "code",
   "execution_count": null,
   "source": [
    "# 列表\r\n",
    "a = [1,2,3,4,5]\r\n",
    "len(a)\r\n",
    "# 索引\r\n",
    "a[0]\r\n",
    "# 赋值\r\n",
    "a[4]=100\r\n",
    "print(a)\r\n",
    "# 切片\r\n",
    "a[1:]\r\n",
    "a[:-1]\r\n",
    "a[:-2]  # 切片不包含：以后的那个元素"
   ],
   "outputs": [],
   "metadata": {}
  },
  {
   "cell_type": "code",
   "execution_count": null,
   "source": [
    "# 字典\r\n",
    "me = {'height': 180}\r\n",
    "# 索引\r\n",
    "me['height']\r\n",
    "# 赋值\r\n",
    "me['height'] =100\r\n",
    "me\r\n",
    "# 添加键值\r\n",
    "me['weight'] = 70\r\n",
    "me"
   ],
   "outputs": [],
   "metadata": {}
  },
  {
   "cell_type": "code",
   "execution_count": null,
   "source": [
    "# 布尔型\r\n",
    "# 取值为True /False的一种变量\r\n",
    "hungry = True  # 饿了\r\n",
    "sleepy = False  # 不困\r\n",
    "type(hungry)\r\n",
    "# 运算 只能是 and  or  not\r\n",
    "not hungry\r\n",
    "hungry and sleepy\r\n",
    "hungry  or sleepy"
   ],
   "outputs": [],
   "metadata": {}
  },
  {
   "cell_type": "markdown",
   "source": [
    "# 1.2 if 和 for 语句"
   ],
   "metadata": {}
  },
  {
   "cell_type": "code",
   "execution_count": null,
   "source": [
    "hungry =  True\r\n",
    "if  hungry:\r\n",
    "    print(\"I'm hungry!\")\r\n",
    "hungry = False\r\n",
    "if  hungry:\r\n",
    "    print(\"I'm hungry !\")\r\n",
    "else:\r\n",
    "    print(\"I'm not hungry!\")\r\n",
    "    print(\"I'm sleepy!\")"
   ],
   "outputs": [],
   "metadata": {}
  },
  {
   "cell_type": "code",
   "execution_count": null,
   "source": [
    "for i in [1,2,3]:\r\n",
    "     print(i)\r\n",
    "\r\n",
    "symbol  = True\r\n",
    "while  symbol:\r\n",
    "     print('hello word')\r\n",
    "     symbol = False\r\n",
    "# contuniue 直接进行下次循环\r\n",
    "# break 此次循环后结束循环"
   ],
   "outputs": [],
   "metadata": {}
  },
  {
   "cell_type": "markdown",
   "source": [
    "# 1.3 函数和模块"
   ],
   "metadata": {}
  },
  {
   "cell_type": "code",
   "execution_count": null,
   "source": [
    "# 函数\r\n",
    "def hello():\r\n",
    "    print(\"hello world！\")\r\n",
    "hello()\r\n",
    "# 函数传入参数\r\n",
    "\r\n",
    "def hello(object):\r\n",
    "    print(\"hello \"+ object +'!')\r\n",
    "\r\n",
    "hello(\"cat\")\r\n",
    "# 函数内部的变量是局部变量，只能在函数内部使用\r\n",
    "# 如果想让函数调用外部的变量，如return  设置全局变量global\r\n"
   ],
   "outputs": [],
   "metadata": {}
  },
  {
   "cell_type": "markdown",
   "source": [
    "# 1.4 类"
   ],
   "metadata": {}
  },
  {
   "cell_type": "code",
   "execution_count": null,
   "source": [
    "# 类\r\n",
    "class Man:\r\n",
    "    \r\n",
    "    def __init__(self,name):\r\n",
    "        self.name = name\r\n",
    "        print(\"Initialized!\")\r\n",
    "    \r\n",
    "    def hello(self):\r\n",
    "        print(\"Hello \" + self.name + \"!\")\r\n",
    "    \r\n",
    "    def goodbye(self):\r\n",
    "        print(\"Goodbye \" + self.name + \"!\")\r\n",
    "\r\n",
    "\r\n",
    "def main():\r\n",
    "    m = Man(\"Wang\")\r\n",
    "    m.hello()\r\n",
    "    m.goodbye()\r\n",
    "\r\n",
    "if __name__== \"__main__\":\r\n",
    "    main()"
   ],
   "outputs": [],
   "metadata": {}
  },
  {
   "cell_type": "markdown",
   "source": [
    "# 1.5 数组"
   ],
   "metadata": {}
  },
  {
   "cell_type": "code",
   "execution_count": null,
   "source": [
    "# 数组\r\n",
    "# 将X转化为1为数组\r\n",
    "import numpy as np\r\n",
    "\r\n",
    "x = np.array([[1,2],[3,4]])\r\n",
    "x\r\n",
    "x.flatten()"
   ],
   "outputs": [],
   "metadata": {}
  },
  {
   "cell_type": "markdown",
   "source": [
    "# 1.6 可视化"
   ],
   "metadata": {}
  },
  {
   "cell_type": "code",
   "execution_count": null,
   "source": [
    "import numpy as np\r\n",
    "import matplotlib.pyplot as plt\r\n",
    "\r\n",
    "x = np.arange(0,6,0.1) #60个数\r\n",
    "y1 = np.sin(x) \r\n",
    "y2 = np.cos(x)\r\n",
    "plt.plot(x,y1,label=\"sin\")\r\n",
    "plt.plot(x,y2,linestyle=\"--\",label='cos')\r\n",
    "plt.xlabel(\"x\")\r\n",
    "plt.ylabel('y')\r\n",
    "plt.title(\"sin & cos\") #标题\r\n",
    "plt.legend() # 图例\r\n",
    "plt.show()"
   ],
   "outputs": [],
   "metadata": {}
  },
  {
   "cell_type": "code",
   "execution_count": null,
   "source": [
    "# 读入图像imread和展示图像imshow\r\n",
    "from matplotlib.image import imread\r\n",
    "\r\n",
    "img = imread(\"封面.jpg\")\r\n",
    "plt.imshow(img)\r\n",
    "plt.show()"
   ],
   "outputs": [],
   "metadata": {}
  }
 ],
 "metadata": {
  "orig_nbformat": 4,
  "language_info": {
   "name": "python"
  }
 },
 "nbformat": 4,
 "nbformat_minor": 2
}