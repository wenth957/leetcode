{
 "cells": [
  {
   "cell_type": "markdown",
   "source": [
    "# 2.1文件路径\r\n",
    "- os模块\r\n",
    "- 工作空间\r\n",
    "- 不同系统不同路径格式\r\n",
    "- 绝对路径、相对路径\r\n",
    "- 创建新的文件夹\r\n",
    "- os.path\r\n",
    "  - 路径转换\r\n",
    "  - 文件类型与大小\r\n",
    "  - 文件是否存在"
   ],
   "metadata": {}
  },
  {
   "cell_type": "code",
   "execution_count": 1,
   "source": [
    "import os \r\n",
    "\r\n",
    "path = os.getcwd()\r\n",
    "# 改变工作路径\r\n",
    "os.chdir('d:\\\\vs_code_python\\\\days_100\\\\res')\r\n",
    "# 连接路径\r\n",
    "path1 = os.path.join(path,'正则表达式.inynb')\r\n",
    "# 获得电脑上的路径格式\r\n",
    "print(path1)\r\n",
    "# 绝对路径 d:\\\\vs_code_python\\\\days_100\\\\res\r\n",
    "# 相对路径 ../ 上一级 ./同级 \r\n",
    "# 创建文件夹\r\n",
    "# os.makedirs('../exercise')"
   ],
   "outputs": [
    {
     "output_type": "error",
     "ename": "FileNotFoundError",
     "evalue": "[WinError 2] 系统找不到指定的文件。: 'd:\\\\vs_code_python\\\\days_100\\\\res'",
     "traceback": [
      "\u001b[1;31m---------------------------------------------------------------------------\u001b[0m",
      "\u001b[1;31mFileNotFoundError\u001b[0m                         Traceback (most recent call last)",
      "\u001b[1;32m<ipython-input-1-478e01741769>\u001b[0m in \u001b[0;36m<module>\u001b[1;34m\u001b[0m\n\u001b[0;32m      3\u001b[0m \u001b[0mpath\u001b[0m \u001b[1;33m=\u001b[0m \u001b[0mos\u001b[0m\u001b[1;33m.\u001b[0m\u001b[0mgetcwd\u001b[0m\u001b[1;33m(\u001b[0m\u001b[1;33m)\u001b[0m\u001b[1;33m\u001b[0m\u001b[1;33m\u001b[0m\u001b[0m\n\u001b[0;32m      4\u001b[0m \u001b[1;31m# 改变工作路径\u001b[0m\u001b[1;33m\u001b[0m\u001b[1;33m\u001b[0m\u001b[1;33m\u001b[0m\u001b[0m\n\u001b[1;32m----> 5\u001b[1;33m \u001b[0mos\u001b[0m\u001b[1;33m.\u001b[0m\u001b[0mchdir\u001b[0m\u001b[1;33m(\u001b[0m\u001b[1;34m'd:\\\\vs_code_python\\\\days_100\\\\res'\u001b[0m\u001b[1;33m)\u001b[0m\u001b[1;33m\u001b[0m\u001b[1;33m\u001b[0m\u001b[0m\n\u001b[0m\u001b[0;32m      6\u001b[0m \u001b[1;31m# 连接路径\u001b[0m\u001b[1;33m\u001b[0m\u001b[1;33m\u001b[0m\u001b[1;33m\u001b[0m\u001b[0m\n\u001b[0;32m      7\u001b[0m \u001b[0mpath1\u001b[0m \u001b[1;33m=\u001b[0m \u001b[0mos\u001b[0m\u001b[1;33m.\u001b[0m\u001b[0mpath\u001b[0m\u001b[1;33m.\u001b[0m\u001b[0mjoin\u001b[0m\u001b[1;33m(\u001b[0m\u001b[0mpath\u001b[0m\u001b[1;33m,\u001b[0m\u001b[1;34m'正则表达式.inynb'\u001b[0m\u001b[1;33m)\u001b[0m\u001b[1;33m\u001b[0m\u001b[1;33m\u001b[0m\u001b[0m\n",
      "\u001b[1;31mFileNotFoundError\u001b[0m: [WinError 2] 系统找不到指定的文件。: 'd:\\\\vs_code_python\\\\days_100\\\\res'"
     ]
    }
   ],
   "metadata": {}
  },
  {
   "cell_type": "code",
   "execution_count": null,
   "source": [
    "# os.path模块\r\n",
    "# 相对路径和绝对路径的转换\r\n",
    "os.path.abspath('.')\r\n",
    "os.path.abspath(path1)\r\n",
    "os.path.isabs('./')\r\n",
    "os.path.relpath('d:\\\\vs_code_python\\\\days_100\\\\exercise\\\\day_1.py',path1)\r\n",
    "# 调用上一级\\\\exercise即可"
   ],
   "outputs": [],
   "metadata": {}
  },
  {
   "cell_type": "code",
   "execution_count": null,
   "source": [
    "\r\n",
    "# 名字basename和dirname\r\n",
    "print(os.path.basename(path1))\r\n",
    "print(os.path.dirname(path1))\r\n",
    "# 文件大小\r\n",
    "print(os.path.getsize(os.path.join(path,'正则表达式.ipynb')))\r\n",
    "print(os.listdir(path))\r\n",
    "totalsize = 0\r\n",
    "for filename in os.listdir(path):\r\n",
    "    totalsize+= os.path.getsize(os.path.join(path,filename))\r\n",
    "print(totalsize)\r\n",
    "# 该文件夹的字符数\r\n",
    "# 检验路径的有效性\r\n",
    "print(os.path.exists(path))\r\n",
    "print(os.path.isdir(path))\r\n",
    "print(os.path.isfile(os.path.join(path,'正则表达式.ipynb')))"
   ],
   "outputs": [],
   "metadata": {}
  },
  {
   "cell_type": "markdown",
   "source": [
    "# 2.2读写文件\r\n",
    "- 基础知识\r\n",
    "  - 文本文件\r\n",
    "  - 二进制文件：颜色、excel等\r\n",
    "- 读取文件\r\n",
    "-写入文件"
   ],
   "metadata": {}
  },
  {
   "cell_type": "code",
   "execution_count": null,
   "source": [
    "# 读取文件：open readlines close\r\n",
    "fileA = open(os.path.join(path,'hello.txt'))\r\n",
    "content = fileA.readlines()\r\n",
    "print(content)\r\n",
    "fileA.close() "
   ],
   "outputs": [],
   "metadata": {}
  },
  {
   "cell_type": "code",
   "execution_count": null,
   "source": [
    "# 写入文件 覆写\r\n",
    "fileB= open(os.path.join(path,'write.txt'),'w')\r\n",
    "fileB.write('you are stupid!\\n')\r\n",
    "# 与print自带换行符不同，写入文件要自己编写换行符\r\n",
    "fileB.close()"
   ],
   "outputs": [],
   "metadata": {}
  },
  {
   "cell_type": "code",
   "execution_count": null,
   "source": [
    "# 写入文件 添加\r\n",
    "fileC = open(os.path.join(path,'write.txt'),'a')\r\n",
    "fileC.write('foolish\\n')\r\n",
    "fileC.write('shut up!\\n')\r\n",
    "fileC.close()"
   ],
   "outputs": [],
   "metadata": {}
  },
  {
   "cell_type": "markdown",
   "source": [
    "# 2.3 shelve模块：常用\r\n",
    " - 保存变量为shelve类字典"
   ],
   "metadata": {}
  },
  {
   "cell_type": "code",
   "execution_count": null,
   "source": [
    "import shelve\r\n",
    "shelfFile = shelve.open('mycats')\r\n",
    "cats = ['zhao','qian','sun','li']\r\n",
    "shelfFile['cats'] = cats\r\n",
    "shelfFile.close()\r\n",
    "# 类似一个字典，存储所有变量"
   ],
   "outputs": [],
   "metadata": {}
  },
  {
   "cell_type": "code",
   "execution_count": null,
   "source": [
    "shelfFile = shelve.open('mycats')\r\n",
    "print(type(shelfFile))\r\n",
    "print(shelfFile['cats'])\r\n",
    "print(shelfFile.keys())\r\n",
    "print(shelfFile.values())\r\n",
    "print(list(shelfFile.keys()))\r\n",
    "print(list(shelfFile.values()))"
   ],
   "outputs": [],
   "metadata": {}
  },
  {
   "cell_type": "markdown",
   "source": [
    "# 2.4 pprint模块：简单数据类型\r\n",
    "  - 保存字典列表为模块"
   ],
   "metadata": {}
  },
  {
   "cell_type": "code",
   "execution_count": null,
   "source": [
    "import pprint\r\n",
    "\r\n",
    "cats = [{\r\n",
    "    'name':'zhao',\r\n",
    "     'age':'1'},\r\n",
    "     {'name':'qian',\r\n",
    "     'age':'2'}]\r\n",
    "pprint.pformat(cats)\r\n",
    "#  美化字典输出\r\n",
    "fileD=open('mycats.py','w')\r\n",
    "fileD.write('cats = ' + pprint.pformat(cats) + '\\n')\r\n",
    "fileD.close()"
   ],
   "outputs": [],
   "metadata": {}
  },
  {
   "cell_type": "markdown",
   "source": [
    "# 2.5 项目实战\r\n",
    "- 编写试卷\r\n",
    "  - 将洲及其首府保存到一个字典中\r\n",
    "  - 根据字典构造50个问题和35份不同的答案，35份不同的试卷，各有35个文件：循环\r\n",
    "  - 问题顺序随机，对每50个问题构造随机答案，正确选项+三个错误选项（随机），选出后再shuffle一次\r\n",
    "  - 将问题和答案写入试卷文件同时生成每份试卷的正确答案\r\n",
    "- 多重剪切板"
   ],
   "metadata": {}
  },
  {
   "cell_type": "code",
   "execution_count": 1,
   "source": [
    "# 编写试卷.\r\n",
    "import random\r\n",
    "# 生成一个字典\r\n",
    "capitals = {\r\n",
    "    'Alabama': 'Montgomery', 'Alaska': 'Juneau', 'Arizona': 'Phoenix', 'Arkansas': 'Little Rock', 'California': 'Sacramento', 'Colorado': 'Denver', 'Connecticut': 'Hartford', 'Delaware': 'Dover', 'Florida': 'Tallahassee', 'Georgia': 'Atlanta', 'Hawaii': 'Honolulu', 'Idaho': 'Boise', 'Illinois': 'Springfield', 'Indiana': 'Indianapolis', 'Iowa': 'Des Moines', 'Kansas': 'Topeka', 'Kentucky': 'Frankfort', 'Louisiana': 'Baton Rouge', 'Maine': 'Augusta', 'Maryland': 'Annapolis', 'Massachusetts': 'Boston', 'Michigan': 'Lansing', 'Minnesota': 'Saint Paul', 'Mississippi': 'Jackson', 'Missouri': 'Jefferson City', 'Montana': 'Helena', 'Nebraska': 'Lincoln', 'Nevada': 'Carson City', 'New Hampshire': 'Concord', 'New Jersey': 'Trenton', 'New Mexico': 'Santa Fe', 'New York': 'Albany', 'North Carolina': 'Raleigh', 'North Dakota': 'Bismarck', 'Ohio': 'Columbus', 'Oklahoma': 'Oklahoma City', 'Oregon': 'Salem', 'Pennsylvania': 'Harrisburg', 'Rhode Island': 'Providence', 'South Carolina': 'Columbia', 'South Dakota': 'Pierre', 'Tennessee': 'Nashville', 'Texas': 'Austin', 'Utah': 'Salt Lake City', 'Vermont': 'Montpelier', 'Virginia': 'Richmond', 'Washington': 'Olympia', 'West Virginia': 'Charleston', 'Wisconsin': 'Madison', 'Wyoming': 'Cheyenne'}\r\n",
    "# 生成测试试卷文件和答案文件\r\n",
    "for quizNum in range(35): \r\n",
    "    quizFile = open('capitalsquiz%s.txt' % (quizNum + 1), 'a')\r\n",
    "    answerFile = open('capitalsquiz_answers%s.txt' % (quizNum + 1), 'a')\r\n",
    "\r\n",
    "    # 写入试卷标头\r\n",
    "    quizFile.write('Name:\\n\\nDate:\\n\\nPeriod:\\n\\n')\r\n",
    "    quizFile.write((' ' * 20) + 'State Capitals Quiz (Form %s)' % (quizNum + 1))\r\n",
    "    quizFile.write('\\n\\n')\r\n",
    "\r\n",
    "    # 随机处理洲名\r\n",
    "    states = list(capitals.keys())\r\n",
    "    random.shuffle(states) \r\n",
    "\r\n",
    "    # 生成问题\r\n",
    "    for questionNum in range(50):\r\n",
    "        correctAnswer = capitals[states[questionNum]]  # 每个问题生成四个答案\r\n",
    "        wrongAnswers = list(capitals.values())  # 排除正确答案后筛选3个\r\n",
    "        del wrongAnswers[wrongAnswers.index(correctAnswer)] \r\n",
    "        wrongAnswers = random.sample(wrongAnswers, 3) \r\n",
    "        answerOptions = wrongAnswers + [correctAnswer] # 得到所有选项并且随机排序\r\n",
    "        random.shuffle(answerOptions) \r\n",
    "        # 写入试卷文件\r\n",
    "        quizFile.write('%s. What is the capital of %s?\\n' % (questionNum + 1, states[questionNum]))\r\n",
    "        for i in range(4):\r\n",
    "            quizFile.write('%s. %s\\n' % ('ABCD'[i], answerOptions[i]))\r\n",
    "        quizFile.write('\\n')\r\n",
    "        # 写入答案文件\r\n",
    "        answerFile.write('%s. %s\\n' % (questionNum + 1, 'ABCD'[answerOptions.index(correctAnswer)]))\r\n",
    "    quizFile.close()\r\n",
    "    answerFile.close()"
   ],
   "outputs": [],
   "metadata": {}
  },
  {
   "cell_type": "code",
   "execution_count": 2,
   "source": [
    "# mcb.pyw 保存和加载文本到剪切板\r\n",
    "# 用法：py.exe mcb.pyw save argv[1] <keyword>argv[2] 保存剪贴板内容到某个关键字\r\n",
    "# 用法：py.exe mcb.pyw  <keyword>argv[1]  将某个关键字粘贴到剪贴板\r\n",
    "# 用法：py.exe mcb.pyw  list argv[1] 所有关键字到剪贴板\r\n",
    "# sys读取命令行参数\r\n",
    "import sys,shelve,pyperclip\r\n",
    "\r\n",
    "mcbshelf = shelve.open('mcb')\r\n",
    "if  len(sys.argv) == 3 and sys.argv[1].lower() == 'save':\r\n",
    "    mcbshelf[sys.argv[2]] = pyperclip.paste()\r\n",
    "elif len(sys.argv) == 2:\r\n",
    "    if sys.argv[1].lower() == 'list':\r\n",
    "        pyperclip.copy(str(list(mcbshelf.keys())))  # 所有关键字被粘贴到剪贴板\r\n",
    "    elif sys.argv[1] in mcbshelf:   \r\n",
    "        pyperclip.copy(mcbshelf[sys.argv[1]]) # 如果是关键字，则粘贴到剪贴板\r\n",
    "# 列出关键字和加载内容\r\n",
    "mcbshelf.close()\r\n"
   ],
   "outputs": [],
   "metadata": {}
  },
  {
   "cell_type": "markdown",
   "source": [
    "铭志,囚封天之道,众生需渡无量劫,离开深狱一执念,奉至修真行 铭志,众生亦于无量前,解今...\r\n",
    "小兄弟,我看你天庭饱满。紫光透体绝非凡人啊!可惜若无人指点。怕此生婴变无望望\r\n",
    "有一种人,天生就是为了战而生;天生就是为了杀戮而存在,天生就是为了逆天而行。王林就是这样"
   ],
   "metadata": {}
  }
 ],
 "metadata": {
  "orig_nbformat": 4,
  "language_info": {
   "name": "python",
   "version": "3.6.7",
   "mimetype": "text/x-python",
   "codemirror_mode": {
    "name": "ipython",
    "version": 3
   },
   "pygments_lexer": "ipython3",
   "nbconvert_exporter": "python",
   "file_extension": ".py"
  },
  "kernelspec": {
   "name": "python3",
   "display_name": "Python 3.6.7 64-bit"
  },
  "interpreter": {
   "hash": "4eaf1be304415beee96765ae99c3f893cc8312c7f1196698e6029668e9aeb3e5"
  }
 },
 "nbformat": 4,
 "nbformat_minor": 2
}