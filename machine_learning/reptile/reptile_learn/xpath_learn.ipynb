{
 "cells": [
  {
   "cell_type": "code",
   "execution_count": null,
   "metadata": {},
   "outputs": [],
   "source": [
    "# 正则表达式用于爬取某个标签内的内容 max min 或 标签内的json字符串\n",
    "# 成块数据利用xpath、xml\n",
    "# 在html/xml中快速查找信息的语言，用来遍历元素或信息\n",
    "# html  目的是为了展示数据 超文本标记语言    标签<>\n",
    "# xml  目的是为了传输和存储数据 可扩展标记语言 节点<>\n",
    "# 上行遍历 parent父节点\n",
    "# 下行遍历 chidren 子节点\n",
    "# 平行遍历 sibling 同胞节点  ancestor 祖先节点 descendant 后辈节点\n",
    "# 类似window系统\n",
    "# nodename 选取所有子节点\n",
    "# /从根节点选取\n",
    "# //从匹配选择的当前节点选择文档中的节点 不考虑他们的位置\n",
    "# .选取当前节点\n",
    "# .. 选取当前节点的父节点\n",
    "# @ 选取属性"
   ]
  },
  {
   "cell_type": "code",
   "execution_count": null,
   "metadata": {},
   "outputs": [],
   "source": [
    "# text获取文本 a/text() a节点中的文本\n",
    "# @href 获取属性 a/@href a节点中的属性\n",
    "# p标签通常是文本内容\n",
    "# /第一个从根节点选取  之后的/表示连接不同节点"
   ]
  },
  {
   "cell_type": "code",
   "execution_count": null,
   "metadata": {},
   "outputs": [],
   "source": [
    "# 开头//从任意位置开始查找某个属性\n",
    "# a//也可用于查找a节点下的任意节点  \n",
    "# //a[@]限定标签属性 如 //ul[@class='note-list']"
   ]
  }
 ],
 "metadata": {
  "language_info": {
   "codemirror_mode": {
    "name": "ipython",
    "version": 3
   },
   "file_extension": ".py",
   "mimetype": "text/x-python",
   "name": "python",
   "nbconvert_exporter": "python",
   "pygments_lexer": "ipython3",
   "version": 3
  },
  "orig_nbformat": 2
 },
 "nbformat": 4,
 "nbformat_minor": 2
}
