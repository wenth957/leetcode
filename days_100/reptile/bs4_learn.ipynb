{
 "cells": [
  {
   "cell_type": "code",
   "execution_count": null,
   "metadata": {},
   "outputs": [],
   "source": [
    "# beautiful soup对象：要解析的整个文档树 该方法支持遍历和搜索文档树等各种方法\n",
    "# 1.1 创建beatifulsoup对象\n",
    "import requests\n",
    "from bs4 import BeautifulSoup\n",
    "url = 'https://www.python123.io/ws/demo.html'\n",
    "r = requests.get(url)\n",
    "# print(r.content.decode()) 获取html内容\n",
    "demo = r.text\n",
    "soup = BeautifulSoup(demo, 'lxml')\n",
    "# print(soup.prettify())\n",
    "# html标签树 都是<p></p>表示的一对标签 标签内是属性域 属性由键值对构成\n",
    "# 用BeautifulSoup类转化为字符串\n"
   ]
  },
  {
   "cell_type": "code",
   "execution_count": null,
   "metadata": {},
   "outputs": [],
   "source": [
    "# 1.2 用字符串、变量和文件\n",
    "soup = BeautifulSoup('<html>data</html>', 'lxml')\n",
    "soup2 = BeautifulSoup(open('./learn.html'), 'lxml')\n",
    "print(soup)"
   ]
  },
  {
   "cell_type": "code",
   "execution_count": null,
   "metadata": {},
   "outputs": [],
   "source": [
    "print(soup2)"
   ]
  },
  {
   "cell_type": "code",
   "execution_count": null,
   "metadata": {},
   "outputs": [],
   "source": [
    "# 1.3 beautifulsoup类的基本元素\n",
    "# Tag<p></p>标签  p是标签的name 中间键值对是属性：<p>.attrs\n",
    "# 标签内非属性部分：<p>.string  标签注释：comment\n",
    "# 获得标签直接soup.p及其父标签\n",
    "soup = BeautifulSoup(open('./learn.html'), 'lxml')\n",
    "print(soup.title)\n",
    "print(soup.a)\n",
    "print(soup.a.name)\n",
    "print(soup.a.parent.name)"
   ]
  },
  {
   "cell_type": "code",
   "execution_count": null,
   "metadata": {},
   "outputs": [],
   "source": [
    "tag = soup.a\n",
    "# 属性\n",
    "print(tag.attrs)\n",
    "print(tag.attrs['class'])\n",
    "print(tag.attrs['href'])\n",
    "print(type(tag))\n",
    "print(type(tag.attrs))"
   ]
  },
  {
   "cell_type": "code",
   "execution_count": null,
   "metadata": {},
   "outputs": [],
   "source": [
    "# 字符串\n",
    "print(tag.string)\n",
    "print(soup.p)\n",
    "print(soup.p.string)\n",
    "print(type(soup.p.string))\n",
    "# NavigableString可以跨越标签查找里面的字符串"
   ]
  },
  {
   "cell_type": "code",
   "execution_count": null,
   "metadata": {},
   "outputs": [],
   "source": [
    "\n",
    "# comment注释<!--data-->\n",
    "newsoup = BeautifulSoup(\n",
    "    \"<b><!--This is a comment!--></b><p>\\\n",
    "    This is not a comment!</p>\", 'lxml')\n",
    "print(newsoup.b.string)\n",
    "print(type(newsoup.b.string))\n",
    "print(newsoup.p.string)\n",
    "print(type(newsoup.p.string))\n"
   ]
  },
  {
   "cell_type": "code",
   "execution_count": null,
   "metadata": {},
   "outputs": [],
   "source": [
    "# 2.1 html遍历方法之向下遍历\n",
    "# .content将tag的所有结点存入列表\n",
    "# .children迭代器用于循环遍历儿子节点\n",
    "# .descendants 子孙节点迭代器用于循环遍历子孙节点\n",
    "soup = BeautifulSoup(open('learn.html'),'lxml')\n",
    "soup.head\n"
   ]
  },
  {
   "cell_type": "code",
   "execution_count": null,
   "metadata": {},
   "outputs": [],
   "source": [
    "soup.head.contents"
   ]
  },
  {
   "cell_type": "code",
   "execution_count": null,
   "metadata": {},
   "outputs": [],
   "source": [
    "soup.body.contents\n",
    "# 换行符也属于节点"
   ]
  },
  {
   "cell_type": "code",
   "execution_count": null,
   "metadata": {},
   "outputs": [],
   "source": [
    "soup.body.contents[1]\n",
    "# 可以用for in  来进行遍历\n",
    "for child in soup.body.contents:\n",
    "    print(child)"
   ]
  },
  {
   "cell_type": "code",
   "execution_count": null,
   "metadata": {},
   "outputs": [],
   "source": [
    "# 2.1 html遍历方法之向上遍历\n",
    "# .parent  父亲标签\n",
    "# .parents 先辈标签的迭代器\n",
    "soup = BeautifulSoup(open('learn.html'),'lxml')\n",
    "soup.title"
   ]
  },
  {
   "cell_type": "code",
   "execution_count": null,
   "metadata": {},
   "outputs": [],
   "source": [
    "soup.title.parent"
   ]
  },
  {
   "cell_type": "code",
   "execution_count": null,
   "metadata": {},
   "outputs": [],
   "source": [
    "soup.html.parent\n",
    "# 最高的标签其父类就是自己"
   ]
  },
  {
   "cell_type": "code",
   "execution_count": null,
   "metadata": {},
   "outputs": [],
   "source": [
    "soup.parent\n",
    "# 无结果先辈是None"
   ]
  },
  {
   "cell_type": "code",
   "execution_count": null,
   "metadata": {},
   "outputs": [],
   "source": [
    "# 遍历\n",
    "for parent in soup.a.parents:\n",
    "    if parent == None:\n",
    "        print(parent)\n",
    "    else:\n",
    "        print(parent.name)"
   ]
  },
  {
   "cell_type": "code",
   "execution_count": null,
   "metadata": {},
   "outputs": [],
   "source": [
    "# 2.3 平行遍历：同一父亲节点下\n",
    "# .next_sibling 返回按照HTML文本顺序的下一个平行节点\n",
    "# .previous_sibling 返回按照HTML文本顺序的上一个平行节点\n",
    "# .next_siblings 迭代类型，返回按照HTML文本顺序的后续所有平行节点\n",
    "# .previous_siblings 迭代器，返回按照HTML文本顺序的前续所有平行节点\n",
    "url = 'https://www.python123.io/ws/demo.html'\n",
    "r = requests.get(url)\n",
    "demo = r.text\n",
    "soup = BeautifulSoup(demo,'lxml')\n",
    "soup.a.next_sibling\n",
    "# 标签中的字符串也是节点"
   ]
  },
  {
   "cell_type": "code",
   "execution_count": null,
   "metadata": {},
   "outputs": [],
   "source": [
    "soup.a.next_sibling.next_sibling"
   ]
  },
  {
   "cell_type": "code",
   "execution_count": null,
   "metadata": {},
   "outputs": [],
   "source": [
    "soup.a.previous_sibling"
   ]
  },
  {
   "cell_type": "code",
   "execution_count": null,
   "metadata": {},
   "outputs": [],
   "source": [
    "soup.a.previous_sibling.previous_sibling\n",
    "# 没有前面的节点"
   ]
  },
  {
   "cell_type": "code",
   "execution_count": null,
   "metadata": {},
   "outputs": [],
   "source": [
    "# 遍历a的后续平行节点\n",
    "for tag in soup.a.next_siblings:\n",
    "    if tag == None:\n",
    "        print(tag)\n",
    "    else:\n",
    "        print(tag)"
   ]
  },
  {
   "cell_type": "code",
   "execution_count": null,
   "metadata": {},
   "outputs": [],
   "source": [
    "# html格式化prettify()方法\n",
    "print(soup)"
   ]
  },
  {
   "cell_type": "code",
   "execution_count": null,
   "metadata": {},
   "outputs": [],
   "source": [
    "print(soup.prettify())\n",
    "# 为每一个标签增加换行符，没化显示"
   ]
  },
  {
   "cell_type": "code",
   "execution_count": null,
   "metadata": {},
   "outputs": [],
   "source": [
    "# 3.1 信息标记\n",
    "# 标记后形成结构，用于展示、存储，利于程序的运用\n",
    "# html是超文本标记语言\n",
    "# xml/jsom/yaml\n",
    "# xml是由html发展而来额 # 大多数信息是标签 internet\n",
    "# json是有类型键值对 值可以是[];嵌套用{} 有双引号 适合程序处理\n",
    "# 移动云端，接口，无注释\n",
    "# yaml是无类型的键值对 ：无双引号 所属用缩进表示 并列用-号表示\n",
    "# |表示整块数据 # 表示注释  可读性好 各类系统配置文件"
   ]
  },
  {
   "cell_type": "code",
   "execution_count": null,
   "metadata": {},
   "outputs": [],
   "source": [
    "# 3.2 信息提取\n",
    "# 1 完整解析信息的标记形式，在提取关键信息如bs4\n",
    "# 过程繁琐，速度慢\n",
    "# 2 直接搜索关键信息，缺乏准确性\n",
    "# 结论：两种方法一起\n"
   ]
  },
  {
   "cell_type": "code",
   "execution_count": 45,
   "metadata": {},
   "outputs": [
    {
     "output_type": "stream",
     "name": "stdout",
     "text": [
      "<html>\n <head>\n  <title>\n   This is a python demo page\n  </title>\n </head>\n <body>\n  <p class=\"title\">\n   <b>\n    The demo python introduces several python courses.\n   </b>\n  </p>\n  <p class=\"course\">\n   Python is a wonderful general-purpose programming language. You can learn Python from novice to professional by tracking the following courses:\n   <a class=\"py1\" href=\"http://www.icourse163.org/course/BIT-268001\" id=\"link1\">\n    Basic Python\n   </a>\n   and\n   <a class=\"py2\" href=\"http://www.icourse163.org/course/BIT-1001870001\" id=\"link2\">\n    Advanced Python\n   </a>\n   .\n  </p>\n </body>\n</html>\nhttp://www.icourse163.org/course/BIT-268001\nhttp://www.icourse163.org/course/BIT-1001870001\n"
     ]
    }
   ],
   "source": [
    "# 提取html中的所有url地址\n",
    "# 实现逻辑\n",
    "# 1搜索到所有a标签\n",
    "# 2解析a标签格式，提取href后的链接内容\n",
    "print(soup.prettify())\n",
    "for link in soup.find_all('a'):\n",
    "    print(link.get('href'))   "
   ]
  },
  {
   "cell_type": "code",
   "execution_count": 46,
   "metadata": {},
   "outputs": [
    {
     "output_type": "execute_result",
     "data": {
      "text/plain": [
       "[<a class=\"py1\" href=\"http://www.icourse163.org/course/BIT-268001\" id=\"link1\">Basic Python</a>,\n",
       " <a class=\"py2\" href=\"http://www.icourse163.org/course/BIT-1001870001\" id=\"link2\">Advanced Python</a>]"
      ]
     },
     "metadata": {},
     "execution_count": 46
    }
   ],
   "source": [
    "# 3.3 soup对象的查找find_all\n",
    "# find_all(name,attrs,recursive,string,**kwargs)\n",
    "# name按名字检索\n",
    "soup.find_all('a')"
   ]
  },
  {
   "cell_type": "code",
   "execution_count": 47,
   "metadata": {},
   "outputs": [
    {
     "output_type": "execute_result",
     "data": {
      "text/plain": [
       "[<b>The demo python introduces several python courses.</b>,\n",
       " <a class=\"py1\" href=\"http://www.icourse163.org/course/BIT-268001\" id=\"link1\">Basic Python</a>,\n",
       " <a class=\"py2\" href=\"http://www.icourse163.org/course/BIT-1001870001\" id=\"link2\">Advanced Python</a>]"
      ]
     },
     "metadata": {},
     "execution_count": 47
    }
   ],
   "source": [
    "# 同时查找多个标签应该列表传入，结果也是列表\n",
    "soup.find_all(['a','b'])"
   ]
  },
  {
   "cell_type": "code",
   "execution_count": 48,
   "metadata": {},
   "outputs": [
    {
     "output_type": "stream",
     "name": "stdout",
     "text": [
      "html\nhead\ntitle\nbody\np\nb\np\na\na\n"
     ]
    }
   ],
   "source": [
    "# 给出的标签是True,查找所有标签\n",
    "for link in soup.find_all(True):\n",
    "    print(link.name)"
   ]
  },
  {
   "cell_type": "code",
   "execution_count": 49,
   "metadata": {},
   "outputs": [
    {
     "output_type": "stream",
     "name": "stdout",
     "text": [
      "body\nb\n"
     ]
    }
   ],
   "source": [
    "# 所有以b开头的标签呢？正则表达式\n",
    "import re\n",
    "for tag in soup.find_all(re.compile('b')):\n",
    "    print(tag.name)"
   ]
  },
  {
   "cell_type": "code",
   "execution_count": 50,
   "metadata": {},
   "outputs": [
    {
     "output_type": "execute_result",
     "data": {
      "text/plain": [
       "[<p class=\"course\">Python is a wonderful general-purpose programming language. You can learn Python from novice to professional by tracking the following courses:\n",
       " <a class=\"py1\" href=\"http://www.icourse163.org/course/BIT-268001\" id=\"link1\">Basic Python</a> and <a class=\"py2\" href=\"http://www.icourse163.org/course/BIT-1001870001\" id=\"link2\">Advanced Python</a>.</p>]"
      ]
     },
     "metadata": {},
     "execution_count": 50
    }
   ],
   "source": [
    "# find_all(name,attrs,recursive,string,**kwargs)\n",
    "# attrs某个标签中按属性检索,查找属性值为course的标签\n",
    "soup.find_all('p',attrs='course')"
   ]
  },
  {
   "cell_type": "code",
   "execution_count": 56,
   "metadata": {},
   "outputs": [
    {
     "output_type": "execute_result",
     "data": {
      "text/plain": [
       "[<a class=\"py1\" href=\"http://www.icourse163.org/course/BIT-268001\" id=\"link1\">Basic Python</a>]"
      ]
     },
     "metadata": {},
     "execution_count": 56
    }
   ],
   "source": [
    "soup.find_all(id='link1')\n",
    "# 包含在a标签中"
   ]
  },
  {
   "cell_type": "code",
   "execution_count": 57,
   "metadata": {},
   "outputs": [
    {
     "output_type": "execute_result",
     "data": {
      "text/plain": [
       "[<a class=\"py1\" href=\"http://www.icourse163.org/course/BIT-268001\" id=\"link1\">Basic Python</a>,\n",
       " <a class=\"py2\" href=\"http://www.icourse163.org/course/BIT-1001870001\" id=\"link2\">Advanced Python</a>]"
      ]
     },
     "metadata": {},
     "execution_count": 57
    }
   ],
   "source": [
    "# 部分信息查找,对id进行正则\n",
    "import re\n",
    "soup.find_all(id=re.compile('link'))"
   ]
  },
  {
   "cell_type": "code",
   "execution_count": 58,
   "metadata": {},
   "outputs": [
    {
     "output_type": "execute_result",
     "data": {
      "text/plain": [
       "[<a class=\"py1\" href=\"http://www.icourse163.org/course/BIT-268001\" id=\"link1\">Basic Python</a>,\n",
       " <a class=\"py2\" href=\"http://www.icourse163.org/course/BIT-1001870001\" id=\"link2\">Advanced Python</a>]"
      ]
     },
     "metadata": {},
     "execution_count": 58
    }
   ],
   "source": [
    "# find_all(name,attrs,recursive,string,**kwargs)\n",
    "# recursive对儿子进行查找，是否对子孙全部检索，默认为TRUE\n",
    "soup.find_all('a')"
   ]
  },
  {
   "cell_type": "code",
   "execution_count": 59,
   "metadata": {},
   "outputs": [
    {
     "output_type": "execute_result",
     "data": {
      "text/plain": [
       "[]"
      ]
     },
     "metadata": {},
     "execution_count": 59
    }
   ],
   "source": [
    "soup.find_all('a',recursive=False)\n",
    "# 只对儿子节点进行查找，不对子孙节点查找"
   ]
  },
  {
   "cell_type": "code",
   "execution_count": 62,
   "metadata": {},
   "outputs": [
    {
     "output_type": "stream",
     "name": "stdout",
     "text": [
      "<html>\n <head>\n  <title>\n   This is a python demo page\n  </title>\n </head>\n <body>\n  <p class=\"title\">\n   <b>\n    The demo python introduces several python courses.\n   </b>\n  </p>\n  <p class=\"course\">\n   Python is a wonderful general-purpose programming language. You can learn Python from novice to professional by tracking the following courses:\n   <a class=\"py1\" href=\"http://www.icourse163.org/course/BIT-268001\" id=\"link1\">\n    Basic Python\n   </a>\n   and\n   <a class=\"py2\" href=\"http://www.icourse163.org/course/BIT-1001870001\" id=\"link2\">\n    Advanced Python\n   </a>\n   .\n  </p>\n </body>\n</html>\n"
     ]
    }
   ],
   "source": [
    "# find_all(name,attrs,recursive,string,**kwargs)\n",
    "# string 对标签中间的字符串进行查找\n",
    "print(soup.prettify())\n"
   ]
  },
  {
   "cell_type": "code",
   "execution_count": 63,
   "metadata": {},
   "outputs": [
    {
     "output_type": "execute_result",
     "data": {
      "text/plain": [
       "['Basic Python']"
      ]
     },
     "metadata": {},
     "execution_count": 63
    }
   ],
   "source": [
    "soup.find_all(string='Basic Python')"
   ]
  },
  {
   "cell_type": "code",
   "execution_count": 64,
   "metadata": {},
   "outputs": [
    {
     "output_type": "execute_result",
     "data": {
      "text/plain": [
       "['This is a python demo page',\n",
       " 'The demo python introduces several python courses.']"
      ]
     },
     "metadata": {},
     "execution_count": 64
    }
   ],
   "source": [
    "# 对string进行re\n",
    "import re\n",
    "soup.find_all(string=re.compile('python'))"
   ]
  },
  {
   "cell_type": "code",
   "execution_count": 65,
   "metadata": {},
   "outputs": [],
   "source": [
    "# find_all的简写\n",
    "# <>()=tag.find_all()\n",
    "# soup()=soup.find_all()\n",
    "# 7种方法与find_all参数相同\n",
    "# tag.find() 返回第一个结果字符串\n",
    "# tag.find_parents() 从先辈中搜索，返回列表类型\n",
    "# tag.find_parent() 返回一个结果字符串\n",
    "# tag.find_next_siblings()后续平行节点，返回列表\n",
    "# tag.find_next_sibling()后续平行节点，返回字符串 \n",
    "# tag.find_previous_siblings()前续平行节点，返回列表\n",
    "# tag.find_previous_sibling()前续平行节点，返回字符串   \n"
   ]
  },
  {
   "cell_type": "code",
   "execution_count": 17,
   "metadata": {},
   "outputs": [
    {
     "output_type": "stream",
     "name": "stdout",
     "text": [
      "[[100  96 109]\n [ 96 167 146]\n [109 146 168]]\n[[ 0.03420052 -0.00108589 -0.02124593]\n [-0.00108589  0.02496029 -0.02098715]\n [-0.02124593 -0.02098715  0.03797578]]\n251.11466816864828\n1.1295199885371714\n"
     ]
    }
   ],
   "source": [
    "import numpy as np\n",
    " \n",
    "A = np.array([100,96,109,96,167,146,109,146,168]).reshape((3, 3))\n",
    "B = np.array([123,125,189]).reshape((1, 3))\n",
    "C = np.array([123,125,189]).reshape((3, 1))\n",
    "print(A)\n",
    "D = np.linalg.inv(A)\n",
    "print(D)\n",
    "E = np.dot(B,D)\n",
    "F = float(np.dot(E,C))\n",
    "print(F)\n",
    "print((1/(1-F/252))/252)"
   ]
  },
  {
   "cell_type": "code",
   "execution_count": 15,
   "metadata": {},
   "outputs": [
    {
     "output_type": "stream",
     "name": "stdout",
     "text": [
      "[[100 123 109]\n [123 252 189]\n [109 189 168]]\n[[ 0.03415745 -0.00032531 -0.02179571]\n [-0.00032531  0.02539992 -0.02836385]\n [-0.02179571 -0.02836385  0.05200297]]\n166.0990746764981\n1.109969909729042\n"
     ]
    }
   ],
   "source": [
    "import numpy as np\n",
    " \n",
    "A = np.array([100,123,109,123,252,189,109,189,168]).reshape((3, 3))\n",
    "B = np.array([96,125,146]).reshape((1, 3))\n",
    "C = np.array([96,125,146]).reshape((3, 1))\n",
    "print(A)\n",
    "D = np.linalg.inv(A)\n",
    "print(D)\n",
    "E = np.dot(B,D)\n",
    "F = float(np.dot(E,C))\n",
    "print(F)\n",
    "print(1/(1-F/167)/167)"
   ]
  },
  {
   "cell_type": "code",
   "execution_count": 18,
   "metadata": {},
   "outputs": [
    {
     "output_type": "stream",
     "name": "stdout",
     "text": [
      "[[100 123  96]\n [123 252 125]\n [ 96 125 167]]\n[[ 0.03532931 -0.01140435 -0.01177287]\n [-0.01140435  0.00999299 -0.00092399]\n [-0.01177287 -0.00092399  0.01344727]]\n167.76703274693728\n4.292448774896168\n"
     ]
    }
   ],
   "source": [
    "import numpy as np\n",
    " \n",
    "A = np.array([100,123,96,123,252,125,96,125,167]).reshape((3, 3))\n",
    "B = np.array([109,189,146]).reshape((1, 3))\n",
    "C = np.array([109,189,146]).reshape((3, 1))\n",
    "print(A)\n",
    "D = np.linalg.inv(A)\n",
    "print(D)\n",
    "E = np.dot(B,D)\n",
    "F = float(np.dot(E,C))\n",
    "print(F)\n",
    "print(1/(1-F/168)/168)"
   ]
  },
  {
   "cell_type": "code",
   "execution_count": 37,
   "metadata": {},
   "outputs": [
    {
     "output_type": "stream",
     "name": "stdout",
     "text": [
      "151.29\n1.0172727272727273\n113.7539581929\n0.008790902891521672\n"
     ]
    }
   ],
   "source": [
    "a = 123**2/100\n",
    "print(a)\n",
    "b = 252 - a\n",
    "print(b/99)\n",
    "c = b*1.12951999 \n",
    "print(c)\n",
    "print((1/c))"
   ]
  },
  {
   "cell_type": "code",
   "execution_count": 32,
   "metadata": {},
   "outputs": [
    {
     "output_type": "stream",
     "name": "stdout",
     "text": [
      "92.16\n0.7559595959595959\n"
     ]
    },
    {
     "output_type": "execute_result",
     "data": {
      "text/plain": [
       "83.0701480644"
      ]
     },
     "metadata": {},
     "execution_count": 32
    }
   ],
   "source": [
    "a = 96**2/100\n",
    "print(a)\n",
    "b = 167 - a\n",
    "print(b/99)\n",
    "b*1.10996991"
   ]
  },
  {
   "cell_type": "code",
   "execution_count": 34,
   "metadata": {},
   "outputs": [
    {
     "output_type": "stream",
     "name": "stdout",
     "text": [
      "118.81\n0.49686868686868685\n"
     ]
    },
    {
     "output_type": "execute_result",
     "data": {
      "text/plain": [
       "211.14555499629998"
      ]
     },
     "metadata": {},
     "execution_count": 34
    }
   ],
   "source": [
    "a = 109**2/100\n",
    "print(a)\n",
    "b = 168 - a\n",
    "print(b/99)\n",
    "b*4.29244877"
   ]
  },
  {
   "cell_type": "code",
   "execution_count": 28,
   "metadata": {},
   "outputs": [
    {
     "output_type": "stream",
     "name": "stdout",
     "text": [
      "[[100.     0.     0.     0.  ]\n [  0.   100.71   6.92  54.93]\n [  0.     6.92  74.84  41.36]\n [  0.    54.93  41.36  49.19]]\n[[ 0.01        0.          0.          0.        ]\n [ 0.          1.12951999  1.10704112 -2.19214787]\n [ 0.          1.10704112  1.10996991 -2.16950853]\n [ 0.         -2.19214787 -2.16950853  4.29244877]]\n"
     ]
    }
   ],
   "source": [
    "import numpy as np\n",
    " \n",
    "A = np.array([100,0,0,0,0,100.71,6.92,54.93,0,6.92,74.84,41.36,0,54.93,41.36,49.19]).reshape((4,4))\n",
    "print(A)\n",
    "D = np.linalg.inv(A)\n",
    "print(D)"
   ]
  },
  {
   "cell_type": "code",
   "execution_count": null,
   "metadata": {},
   "outputs": [],
   "source": [
    "1.10996991*"
   ]
  }
 ],
 "metadata": {
  "kernelspec": {
   "name": "python367jvsc74a57bd04eaf1be304415beee96765ae99c3f893cc8312c7f1196698e6029668e9aeb3e5",
   "display_name": "Python 3.6.7 64-bit"
  },
  "language_info": {
   "codemirror_mode": {
    "name": "ipython",
    "version": 3
   },
   "file_extension": ".py",
   "mimetype": "text/x-python",
   "name": "python",
   "nbconvert_exporter": "python",
   "pygments_lexer": "ipython3",
   "version": "3.6.7"
  }
 },
 "nbformat": 4,
 "nbformat_minor": 2
}