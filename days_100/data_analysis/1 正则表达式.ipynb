{
    "cells": [
        {
            "cell_type": "markdown",
            "source": [
                "# python re的学习"
            ],
            "metadata": {}
        },
        {
            "cell_type": "markdown",
            "source": [
                "#  1.1 不使用正则表达式 \r\n",
                "- 191-666-1234"
            ],
            "metadata": {}
        },
        {
            "cell_type": "code",
            "execution_count": null,
            "source": [
                "\r\n",
                "def isPhoneNumber(text):\r\n",
                "    if len(text) !=12:\r\n",
                "        return False\r\n",
                "    for i in range(0, 3):\r\n",
                "        if not text[i].isdecimal():\r\n",
                "            # 是否为十进制字符\r\n",
                "            return False\r\n",
                "    if text[3] !='-':\r\n",
                "        return False\r\n",
                "    for i in range(4,7):\r\n",
                "        if not text[i].isdecimal():\r\n",
                "            return False\r\n",
                "    if text[7] !='-':\r\n",
                "        return False\r\n",
                "    for i in range(8,12):\r\n",
                "          if not text[i].isdecimal():\r\n",
                "                return False\r\n",
                "    return  True\r\n",
                "    \r\n",
                "    \r\n",
                "# print(\"191-666-1234 is a phone number: \")\r\n",
                "# print(isPhoneNumber('191-666-1234'))\r\n",
                "# print(\"bilibili is a phone number :\")\r\n",
                "# print(isPhoneNumber('bilibili'))\r\n",
                "# # 在更长的字符串中查找\r\n",
                "# message = \"call me at 415-555-1011 tomorrow. 415-555-9999 is my office.\"\r\n",
                "# for i  in range(len(message)):\r\n",
                "#     chunk = message[i:i+12]\r\n",
                "#     if  isPhoneNumber(chunk):\r\n",
                "#         print('phone number found: ' + chunk)\r\n",
                "# print('Done')"
            ],
            "outputs": [],
            "metadata": {}
        },
        {
            "cell_type": "markdown",
            "source": [
                "# 1.2 正则表达式\r\n",
                "- \\d代表0-9的数字上述电话号码可以用\\d\\d\\d-\\d\\d\\d-\\d\\d\\d\\d来表示\r\n",
                "- \\d{3}-\\d{3}-\\d{4} 其中{3}表示匹配三次,正则表达式是一种匹配方法，返回的是对象有属性和方法\r\n",
                "-  search()方法查找返回一个match对象，match对象有group方法，返回实际匹配的文本"
            ],
            "metadata": {}
        },
        {
            "cell_type": "code",
            "execution_count": null,
            "source": [
                "\r\n",
                "import re\r\n",
                "\r\n",
                "phoneNumRegex = re.compile(r'\\d\\d\\d-\\d\\d\\d-\\d\\d\\d\\d')\r\n",
                "# r用来得到原始字符串，而转义符号\\需要在每个字符前面都加上\\比较复杂\r\n",
                "mo = phoneNumRegex.search('My number is 415-555-4242.')\r\n",
                "print(\"phone number found:\" + mo.group())"
            ],
            "outputs": [],
            "metadata": {}
        },
        {
            "cell_type": "markdown",
            "source": [
                "# 总结：正则表达式步骤\r\n",
                "- 导入re\r\n",
                "- re.compile创建一个regex对象\r\n",
                "- 对regex使用search方法传入想要查找的字符串，返回一个match对象\r\n",
                "- 对match对象使用group方法，返回实际的字符串"
            ],
            "metadata": {}
        },
        {
            "cell_type": "markdown",
            "source": [
                "# 1.3  分组查找\r\n",
                "- 简单分组  \r\n",
                "- 管道匹配\r\n",
                "- ？* . 等符号"
            ],
            "metadata": {}
        },
        {
            "cell_type": "code",
            "execution_count": null,
            "source": [
                "\r\n",
                "# groups打印所有组\r\n",
                "Regex = re.compile(r'(\\d\\d\\d)-(\\d\\d\\d-\\d\\d\\d\\d)')\r\n",
                "mo = Regex.search('my number is 123-456-8888.')\r\n",
                "print(mo.group(0))\r\n",
                "print(mo.group(1))\r\n",
                "print(mo.groups())\r\n",
                "a,b = mo.groups()\r\n",
                "print(a)\r\n",
                "print(b)"
            ],
            "outputs": [],
            "metadata": {}
        },
        {
            "cell_type": "code",
            "execution_count": null,
            "source": [
                "## 文本中有括号，是括号失去函数里的意义\r\n",
                "Regex1 = re.compile(r' (\\(\\d\\d\\d\\)) (\\d\\d\\d-\\d\\d\\d\\d)')\r\n",
                "mo = Regex1.search('my number is (123) 456-8888.')\r\n",
                "print(mo.group(1))\r\n"
            ],
            "outputs": [],
            "metadata": {}
        },
        {
            "cell_type": "code",
            "execution_count": null,
            "source": [
                "# 管道匹配出现词中的第一个\r\n",
                "Regex_hero = re.compile(r'Ironman|Batman')\r\n",
                "mo = Regex_hero.search('Ironman and Batman!')\r\n",
                "print(mo.group())\r\n",
                "mo = Regex_hero.search('Batman and Ironman!')\r\n",
                "print(mo.group())\r\n",
                "## 利用findall可以找到所有匹配\r\n",
                "# 利用管道匹配任意词出现的第一个（前缀相同）\r\n",
                "Regex_a = re.compile(r'Bat(man|mobile|copter|bat)')\r\n",
                "mo = Regex_a.search('Batbat and Batmobile are best!')\r\n",
                "print(mo.group())"
            ],
            "outputs": [],
            "metadata": {}
        },
        {
            "cell_type": "code",
            "execution_count": null,
            "source": [
                "# （group）?表示该group为可选分组\r\n",
                "Regex_chioce = re.compile(r'Bat(wo)?man')\r\n",
                "mo = Regex_chioce.search(' I am Batman')\r\n",
                "mo1 = Regex_chioce.search('you are Batwoman！')\r\n",
                "mo.group()\r\n",
                "mo1.group()"
            ],
            "outputs": [],
            "metadata": {}
        },
        {
            "cell_type": "code",
            "execution_count": null,
            "source": [
                "# （group）* 表示该group匹配0次或者多次\r\n",
                "Regex_new = re.compile(r'Bat(wo)*man')\r\n",
                "mo  = Regex_new.search('Batman is my lover!')\r\n",
                "print(mo.group())\r\n",
                "mo1 = Regex_new.search('my name is Batwowowowowoman!')\r\n",
                "print(mo1.group())\r\n",
                "mo2 = Regex_new.search('my name is Batman')\r\n",
                "print(mo2.group())\r\n",
                "# （group）+表示该group匹配1次或者多次\r\n",
                "# Regex_add = re.compile(r'Bat(wo)+man')\r\n",
                "# mo3 = Regex_add.search('my name is Batman')\r\n",
                "# print(mo3.group())\r\n",
                "# AttributeError: 'NoneType' object has no attribute 'group'"
            ],
            "outputs": [],
            "metadata": {}
        },
        {
            "cell_type": "code",
            "execution_count": null,
            "source": [
                "# {}指定匹配次数（group）{3}3次 {3，} 3次以上 {，5}5次以下\r\n",
                "Regex_ha = re.compile(r'(ha){3}')\r\n",
                "mo = Regex_ha.search('hahaha')\r\n",
                "print(mo.group())"
            ],
            "outputs": [],
            "metadata": {}
        },
        {
            "cell_type": "markdown",
            "source": [
                "# 1.4 贪心匹配和非贪心匹配\r\n",
                "- python的正则表达式默认是贪心的，即匹配最长的字符串，（group）{3，5}？即可实现非贪心匹配"
            ],
            "metadata": {}
        },
        {
            "cell_type": "code",
            "execution_count": null,
            "source": [
                "\r\n",
                "Regex_nogreedy = re.compile(r'(ha){3,5}?')\r\n",
                "mo = Regex_nogreedy.search('hahahahahaha')\r\n",
                "print(mo.group())"
            ],
            "outputs": [],
            "metadata": {}
        },
        {
            "cell_type": "markdown",
            "source": [
                "# 1.5 findall和search\r\n",
                "- findall()查找所有字符串，search()查找字符串中第一个满足条件的字符串\r\n",
                "- findall()返回一个列表，search()返回一个match对象；同样可以用分组匹配"
            ],
            "metadata": {}
        },
        {
            "cell_type": "code",
            "execution_count": null,
            "source": [
                "\r\n",
                "Regex_phone = re.compile(r'\\d\\d\\d-\\d\\d\\d-\\d\\d\\d\\d')\r\n",
                "mo =  Regex_phone.search('Cell:123-456-8888 Work:123-567-9999')\r\n",
                "mo1 = Regex_phone.findall('Cell:123-456-8888 Work:123-567-9999')\r\n",
                "print(mo.group())\r\n",
                "print(mo1)"
            ],
            "outputs": [],
            "metadata": {}
        },
        {
            "cell_type": "markdown",
            "source": [
                "# 1.6 字符分类\r\n",
                "- \\d 0-9 \\D除了0-9外的其他字符\r\n",
                "- \\w单词字符包括字母、数字、下划线  \\W单词以外字符\r\n",
                "- \\s 空白字符  \\S非空白字符"
            ],
            "metadata": {}
        },
        {
            "cell_type": "code",
            "execution_count": null,
            "source": [
                "Regex_str = re.compile(r'\\d+\\s*\\w+')\r\n",
                "# +匹配一次或多次,字符串有多个数字和多个单词\r\n",
                "mo = Regex_str.findall('12 drummers, 11 pipers, 10 lords, 9 ladies,  8maids, 7swans, 6 geese,  5 rings, 4 birds, 3 hens, 2 doves, 1 partridge')\r\n",
                "print(mo)"
            ],
            "outputs": [],
            "metadata": {}
        },
        {
            "cell_type": "code",
            "execution_count": null,
            "source": [
                "# 建立自己的字符分类\r\n",
                "Regex_own = re.compile(r'[AEIOUaeiou]')\r\n",
                "mo = Regex_own.findall('RoboCop eats baby food. BABY FOOD!')\r\n",
                "print(mo)\r\n",
                "# [自定义字符]自定义  [^]匹配自定义之外的字符  -可以连接\r\n",
                "Regex_own1 = re.compile(r'[^AEIOUaeiou]')\r\n",
                "mo1 = Regex_own1.findall('RoboCop eats baby food. BABY FOOD!')\r\n",
                "print(mo1)"
            ],
            "outputs": [],
            "metadata": {}
        },
        {
            "cell_type": "markdown",
            "source": [
                "# 1.7 精准匹配\r\n",
                "- ^插入符号和$结束符号\r\n",
                "- 通配符."
            ],
            "metadata": {}
        },
        {
            "cell_type": "code",
            "execution_count": null,
            "source": [
                "\r\n",
                "Regex1 = re.compile(r'^Hello')\r\n",
                "mo = Regex1.search('Hello world!')\r\n",
                "mo1 = Regex1.search('he said hello!')\r\n",
                "print(mo,'\\n',mo1)\r\n",
                "Regex2 = re.compile(r'^\\d+$')\r\n",
                "mo2 = Regex2.search('111111111x23333333')\r\n",
                "mo3 = Regex2.search('222213232131')\r\n",
                "print(mo2,'\\n',mo3)\r\n",
                "Regex3 = re.compile(r'\\d+$')\r\n",
                "mo4  = Regex3.search('my age is 26')\r\n",
                "print(mo4)"
            ],
            "outputs": [],
            "metadata": {}
        },
        {
            "cell_type": "code",
            "execution_count": null,
            "source": [
                "# 通配符. 匹配除了换行符以外的所有字符,但是只匹配一个字符\r\n",
                "Regex_at = re.compile(r'.at')\r\n",
                "mo = Regex_at.findall('The cat in the hat sat on the flat mat.')\r\n",
                "print(mo)"
            ],
            "outputs": [],
            "metadata": {}
        },
        {
            "cell_type": "code",
            "execution_count": null,
            "source": [
                "# .* 匹配任意字符，如输入姓名和密码时\r\n",
                "Regex_name = re.compile(r'First name: (.*) Last name: (.*)')\r\n",
                "mo = Regex_name.search('First name: AI Last name: Sweigart')\r\n",
                "print(mo.group(1))\r\n",
                "print(mo.group(2))"
            ],
            "outputs": [],
            "metadata": {}
        },
        {
            "cell_type": "code",
            "execution_count": null,
            "source": [
                "# 非贪心算法的使用\r\n",
                "Regex_greed = re.compile(r'<.*>')\r\n",
                "mo = Regex_greed.search('<To serve man> for dinner>')\r\n",
                "print(mo.group())\r\n",
                "Regex_nogreed = re.compile(r'<.*?>')\r\n",
                "mo1 = Regex_nogreed.search('<To serve man> for dinner>')\r\n",
                "print(mo1.group())"
            ],
            "outputs": [],
            "metadata": {}
        },
        {
            "cell_type": "markdown",
            "source": [
                "# 1.8 compile第二个参数\r\n",
                "- 忽略空白re.VERBOSE\r\n",
                "- 忽略大小写 re.I\r\n",
                "- 通配符换行符查找re.DOTALL"
            ],
            "metadata": {}
        },
        {
            "cell_type": "code",
            "execution_count": null,
            "source": [
                "# 通配符. 匹配换行符需要传入参数re.DOTALL\r\n",
                "Regex_nonewline = re.compile(r'.*')\r\n",
                "mo = Regex_nonewline.findall('Serve the public trust. \\nProtect the innocent\\nUphold the law')\r\n",
                "print(mo)\r\n",
                "Regex_newline = re.compile(r'.*',re.DOTALL)\r\n",
                "mo1 = Regex_newline.findall('Serve the public trust. \\nProtect the innocent\\nUphold the law')\r\n",
                "print(mo1)"
            ],
            "outputs": [],
            "metadata": {}
        },
        {
            "cell_type": "code",
            "execution_count": null,
            "source": [
                "# 忽略大小写\r\n",
                "Regex_cop = re.compile(r'robocop', re.I)\r\n",
                "mo=Regex_cop.search('RoboCop is part man, part machine,all cop.')\r\n",
                "print(mo.group())\r\n"
            ],
            "outputs": [],
            "metadata": {}
        },
        {
            "cell_type": "code",
            "execution_count": null,
            "source": [
                "# 让正则表达式忽略空白re.VERBOSE\r\n",
                "Regex_group = re.compile(r'Agent (\\w)\\w*',re.VERBOSE)\r\n",
                "mo1 = Regex_group.sub(r'\\1****', 'A gent Alice gave the secret documents to Agent Bob')\r\n",
                "print(mo1)\r\n",
                "Regex_group = re.compile(r'Agent (\\w)\\w*',re.VERBOSE | re.I|re.DOTALL)\r\n",
                "# 同个参数使用不同值，按位或"
            ],
            "outputs": [],
            "metadata": {}
        },
        {
            "cell_type": "markdown",
            "source": [
                "# 1.9 替代文本\r\n",
                "- sub"
            ],
            "metadata": {}
        },
        {
            "cell_type": "code",
            "execution_count": null,
            "source": [
                "# sub替换匹配文本\r\n",
                "Regex_sub = re.compile(r'Agent \\w+')\r\n",
                "mo = Regex_sub.sub('CENSORED', 'Agent Alice gave the secret documents to Agent Bob')\r\n",
                "print(mo)\r\n",
                "# 用匹配的部分元素替代匹配文本如姓名首字,只需分组，然后传入\\1 \\2 \\3即可\r\n",
                "Regex_group = re.compile(r'Agent (\\w)\\w*')\r\n",
                "mo1 = Regex_group.sub(r'\\1****', 'Agent Alice gave the secret documents to Agent Bob')\r\n",
                "print(mo1)"
            ],
            "outputs": [],
            "metadata": {}
        },
        {
            "cell_type": "markdown",
            "source": [
                "# 1.10 电话号码和邮件地址提取程序\r\n",
                " - 把邮件粘贴到剪贴板：手动或者程序\r\n",
                " - 从剪贴板取得文本： 使用pyperclip模块复制和粘贴字符串，创建两个正则表达式分别匹配电话号码和邮件地址\r\n",
                " - 找出文本中所有的电话号码和E-mail地址：找到所有匹配结果（不是一次性匹配）\r\n",
                " - 把他们粘贴到剪贴板：将匹配好的字符串整理好格式，放入一个字符串中，用于粘贴\r\n",
                " - 如果没有找到匹配，则提示信息"
            ],
            "metadata": {}
        },
        {
            "cell_type": "code",
            "execution_count": 288,
            "source": [
                "import pyperclip, re\r\n",
                "\r\n",
                "# 定义两个正则表达式\r\n",
                "phoneRegex = re.compile(r'''(    \r\n",
                "    (\\d{3} | \\(\\d{3}\\))?\r\n",
                "    (\\s | - | \\ .)?  # 空格、-或.号\r\n",
                "    (\\d{3})  \r\n",
                "    (\\s | - | \\ .)\r\n",
                "    (\\d{4})\r\n",
                "     (\\s*(ext|x|ext.)\\s*(\\d{2,5}))? # 可选的分机号,这里是三个组第8个组是分机号\r\n",
                "     )''', re.VERBOSE)\r\n",
                "# 先返回最大括号的分组然后一次返回共9个元素\r\n",
                "\r\n",
                "emailRegex = re.compile(r'''(\r\n",
                "    [a-zA-Z0-9._%+-]+  # 用户名\r\n",
                "    @\r\n",
                "    [a-zA-Z0-9.-]+         # 域名\r\n",
                "    (\\.[a-zA-Z]{2,4})       # .com .cn等\r\n",
                ")''' , re.VERBOSE)"
            ],
            "outputs": [],
            "metadata": {}
        },
        {
            "cell_type": "code",
            "execution_count": null,
            "source": [
                "# 继续匹配\r\n",
                "text = str(pyperclip.paste())\r\n",
                "matches = []\r\n",
                "for groups in phoneRegex.findall(text):\r\n",
                "    print(groups)\r\n",
                "    phoneNum = '-'.join([groups[1],groups[3],groups[5]])\r\n",
                "    if groups[8] !=' ':\r\n",
                "        phoneNum+= ' x'+groups[8]\r\n",
                "    matches.append(groups[0])\r\n",
                "for groups in emailRegex.findall(text):\r\n",
                "    matches.append(groups[0])"
            ],
            "outputs": [],
            "metadata": {}
        },
        {
            "cell_type": "code",
            "execution_count": 290,
            "source": [
                "# 拼接成一个字符串，复制到剪切板\r\n",
                "if  len(matches) >0:\r\n",
                "    pyperclip.copy('\\n'.join(matches))\r\n",
                "    print('Copied to clipboard: ')\r\n",
                "    print('\\n'.join(matches))\r\n",
                "else:\r\n",
                "    print('No phone numbers or email address found')"
            ],
            "outputs": [
                {
                    "output_type": "stream",
                    "name": "stdout",
                    "text": [
                        "Copied to clipboard: \n",
                        "400-660-0108\n",
                        "\n",
                        "999-2021\n",
                        "472464\n",
                        "1900\n",
                        "\n",
                        "658\n",
                        "1101\n",
                        "kefu@csdn.net\n"
                    ]
                }
            ],
            "metadata": {}
        }
    ],
    "metadata": {
        "orig_nbformat": 4,
        "language_info": {
            "name": "python"
        }
    },
    "nbformat": 4,
    "nbformat_minor": 2
}