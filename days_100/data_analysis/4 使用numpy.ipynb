{
 "cells": [
  {
   "cell_type": "markdown",
   "source": [
    "@[toc](numpy的学习)"
   ],
   "metadata": {}
  },
  {
   "cell_type": "code",
   "execution_count": null,
   "source": [
    "import numpy as np\r\n",
    "import matplotlib.pyplot as plt \r\n",
    "import pandas as pd\r\n",
    "import seaborn as sns\r\n",
    "import statsmodels as sm "
   ],
   "outputs": [],
   "metadata": {}
  },
  {
   "cell_type": "markdown",
   "source": [
    "# 4.1 notebook的使用"
   ],
   "metadata": {}
  },
  {
   "cell_type": "code",
   "execution_count": null,
   "source": [
    "# tab代码补全\r\n",
    "#  帮助功能？\r\n",
    "a = [1,2,3]\r\n",
    "\r\n",
    "def  add_sum(list,sum=0):\r\n",
    "    '''求和函数'''\r\n",
    "    for num in list:\r\n",
    "        sum+=num\r\n",
    "    return sum\r\n",
    "# add_sum?  显示函数注释\r\n",
    "# add_sum??    显示源码\r\n",
    "# %run clip.pyw 运行模块\r\n",
    "# %load clip.bat 打开脚本\r\n",
    "# ctrl-C中断运行"
   ],
   "outputs": [],
   "metadata": {}
  },
  {
   "cell_type": "markdown",
   "source": [
    "# 4.2 numpy基础知识"
   ],
   "metadata": {}
  },
  {
   "cell_type": "code",
   "execution_count": null,
   "source": [
    "# numpy数组和python数组的区别\r\n",
    "my_arr = np.arange(1000000)\r\n",
    "my_list = list(range(1000000))"
   ],
   "outputs": [],
   "metadata": {}
  },
  {
   "cell_type": "code",
   "execution_count": null,
   "source": [
    "# numpy 运行时间短\r\n",
    "for _ in range(100):\r\n",
    "    my_arr2 = my_arr*2"
   ],
   "outputs": [],
   "metadata": {}
  },
  {
   "cell_type": "code",
   "execution_count": null,
   "source": [
    "for _ in range(100):\r\n",
    "    mylist2 = [x*2 for x in my_list]"
   ],
   "outputs": [],
   "metadata": {}
  },
  {
   "cell_type": "code",
   "execution_count": null,
   "source": [
    "# numpy的基本计算和标量相同\r\n",
    "data = np.random.randn(2,3)\r\n",
    "# 直接生成数组\r\n",
    "print(data)\r\n",
    "print(data*10)\r\n",
    "print(data+data)\r\n",
    "print(data.shape)\r\n",
    "print(data.dtype)\r\n",
    "# arange是range的数组版本\r\n",
    "np.arange(15)"
   ],
   "outputs": [],
   "metadata": {}
  },
  {
   "cell_type": "code",
   "execution_count": null,
   "source": [
    "# numpy数组即 ndarray数组的创建：array函数\r\n",
    "# 一维序列对应一维数组，多维序列对应多维数组\r\n",
    "series1 = [1,2,3,5,6,7]\r\n",
    "arr1 = np.array(series1)\r\n",
    "print(arr1)\r\n",
    "series2 = [[1,2,3,4],[5,6,7,8]]\r\n",
    "arr2 = np.array(series2)  # 同结构转换成多维数组，不同结构是list的一维数组\r\n",
    "print(arr2)\r\n",
    "print(arr2.ndim) # 根据series数据演化\r\n",
    "print(arr2.shape)\r\n",
    "print(arr2.dtype)"
   ],
   "outputs": [],
   "metadata": {}
  },
  {
   "cell_type": "code",
   "execution_count": null,
   "source": [
    "# zeros ones empty函数创建多维数组 传入元组作为参数即可\r\n",
    "# eye单位阵 full填充\r\n",
    "arr3 = np.zeros(10)\r\n",
    "arr4 = np.zeros((2,3)) # zeros_like以另一个数组为参照复制0\r\n",
    "arr5 = np.ones((3,5))   # ones_like以另一个数组为参照复制1\r\n",
    "arr6 = np.empty((2,3,3))  # 第一个参数是矩阵个数，通常是看不到的一面\r\n",
    "print(arr3)\r\n",
    "print(arr4)\r\n",
    "print(arr5)\r\n",
    "print(arr6)"
   ],
   "outputs": [],
   "metadata": {}
  },
  {
   "cell_type": "code",
   "execution_count": null,
   "source": [
    "# 转换数组元素的类型\r\n",
    "# 整数和浮点数互换\r\n",
    "arr = np.array([1,2,3,4,5])\r\n",
    "print(arr.dtype)\r\n",
    "arr1 = arr.astype(np.float64)\r\n",
    "print(arr1.dtype)\r\n",
    "arr2 = arr1.astype(np.int32)\r\n",
    "print(arr2.dtype)\r\n",
    "# 数字字符串转换为数字\r\n",
    "# arr = np.array(['1','2','3','4','ren'])\r\n",
    "# ValueError: could not convert string to float: 'ren'\r\n",
    "arr = np.array(['1','2','3','4','5'])\r\n",
    "print(arr.dtype)\r\n",
    "print(arr.astype('float64').dtype)\r\n",
    "print(arr)\r\n",
    "print(arr.astype('float64'))\r\n",
    "# 不仅可以指定数据类型，还可以使用别的数据类型\r\n",
    "arr1 = np.arange(10)\r\n",
    "print(arr1.dtype)\r\n",
    "arr2 = np.array([1.0,2.0,3.0,4.0,5.0])\r\n",
    "print(arr2.dtype)\r\n",
    "arr3 = arr1.astype(arr2.dtype)\r\n",
    "print(arr3.dtype)\r\n",
    "arr4 = arr3.astype('u4')\r\n",
    "print(arr4)"
   ],
   "outputs": [],
   "metadata": {}
  },
  {
   "cell_type": "code",
   "execution_count": null,
   "source": [
    "# numpy 数组的运算:作用在元素上\r\n",
    "arr = np.array([[1,2,3],[4,5,6]])\r\n",
    "print(arr)\r\n",
    "arr1 = 1/arr\r\n",
    "print(arr1)\r\n",
    "arr2 = arr*arr\r\n",
    "print(arr2)\r\n",
    "arrsqrt = arr**0.5\r\n",
    "print(arrsqrt)\r\n",
    "arr2> arr"
   ],
   "outputs": [],
   "metadata": {}
  },
  {
   "cell_type": "markdown",
   "source": [
    "# 4.3 numpy的索引和切片"
   ],
   "metadata": {}
  },
  {
   "cell_type": "code",
   "execution_count": null,
   "source": [
    "# 数组的索引和切片\r\n",
    "# 一维数组\r\n",
    "arr = np.arange(10)\r\n",
    "print(arr)\r\n",
    "arr[4]\r\n",
    "arr[5:8]\r\n",
    "arr[5:8] = 12 # 对切片赋值标量，会扩散到其他选取\r\n",
    "print(arr)\r\n",
    "slice_arr = arr[5:8]\r\n",
    "slice_arr[1] = 10\r\n",
    "print(arr)   # 即使对新的变量操作也会反映在原始数组上，不会复制数组数据占用新的内存\r\n",
    "slice_arr[:] = 10\r\n",
    "print(arr) # : 针对所有值\r\n",
    "slice_arr = arr[5:8].copy()\r\n",
    "slice_arr[:] = 111\r\n",
    "print(arr) # copy副本后原数组没有发生变化\r\n",
    "# 二维数组索引: axis = 0 是行 axis=1 是列\r\n",
    "arr = np.array([[1,2,3],[4,5,6],[7,8,9]])\r\n",
    "print(arr)\r\n",
    "print(arr[0,1])\r\n",
    "# 三维度数组的赋值和索引\r\n",
    "arr3d  = np.array([[[1,2,3],[4,5,6]],[[7,8,9],[10,11,12]]])\r\n",
    "print(arr3d)\r\n",
    "print(arr3d[0])\r\n",
    "print(arr3d[1])\r\n",
    "# 可以标量赋值也可以数组赋值\r\n",
    "slice_arr3d = arr3d[0].copy()\r\n",
    "arr3d[0] = 23\r\n",
    "print(arr3d)\r\n",
    "arr3d[0] = slice_arr3d\r\n",
    "print(arr3d)\r\n",
    "# 索引\r\n",
    "print(arr3d[0,1,2])"
   ],
   "outputs": [],
   "metadata": {}
  },
  {
   "cell_type": "code",
   "execution_count": null,
   "source": [
    "# 切片\r\n",
    "# 二维数组\r\n",
    "arr2d = np.array([[1,2,3],[4,5,6],[7,8,9]])\r\n",
    "print(arr2d[:2]) # 默认按行索引\r\n",
    "print(arr2d[:2,1:]) # 前两行，后两列，从0开始，：2 类似range(1:2) 2不会进行索引\r\n",
    "print(arr2d[1,:2])\r\n",
    "print(arr2d[:,:2]) # :表示选取整个轴\r\n",
    "arr2d[:2, 1:] = 0\r\n",
    "print(arr2d)"
   ],
   "outputs": [],
   "metadata": {}
  },
  {
   "cell_type": "code",
   "execution_count": null,
   "source": [
    "# 布尔值索引\r\n",
    "names = np.array(['zhao','qian','sun','li','fen','chen','chu','wei'])\r\n",
    "# 对应 0 1 2 3 4 5 6 7  原本是对对对对对对对对\r\n",
    "# 根据布尔值判断索引哪个\r\n",
    "data = np.random.randn(8,4)\r\n",
    "print(names)\r\n",
    "print(data)\r\n",
    "names == 'sun'\r\n",
    "print('\\n')\r\n",
    "print(data[names=='sun'])\r\n",
    "print(data[names=='sun',:2])\r\n",
    "print(data[names!='sun',:2])\r\n",
    "print('\\n')\r\n",
    "cond = names=='sun'\r\n",
    "print(data[~cond,:2])\r\n",
    "print(data[(names=='sun')|(names=='zhao'),:2])\r\n",
    "# 布尔值赋值\r\n",
    "data[data<0] = 0\r\n",
    "print(data)\r\n",
    "data[names!='sun'] = 100\r\n",
    "print(data)"
   ],
   "outputs": [],
   "metadata": {}
  },
  {
   "cell_type": "code",
   "execution_count": null,
   "source": [
    "# 花式索引\r\n",
    "# 利用数组来进行索引\r\n",
    "arr = np.empty((8,4))\r\n",
    "for i in range(8):\r\n",
    "    arr[i] = i\r\n",
    "print(arr[[2,3,1,5]])\r\n",
    "print(arr[[-1,-2,-3]]) # 从末尾开始\r\n",
    "print(arr[[1,2,3,4],[0,1,2,3]]) # 返回1,0  2,1 3,2 4,3 一个元组 \r\n",
    "print(arr[[1,2,3,4]][:,[0,1,2,3]]) # 只能传入一个数组索引，然后对其进行数组操作得到矩阵块"
   ],
   "outputs": [],
   "metadata": {}
  },
  {
   "cell_type": "markdown",
   "source": [
    "# 4.4 numpy的基本运算\r\n",
    "- 转置：.T transpose() swapaxes()\r\n",
    "- 元素级别的运算：根号、指数、maximum"
   ],
   "metadata": {}
  },
  {
   "cell_type": "code",
   "execution_count": null,
   "source": [
    "# 数组转置和轴的对换\r\n",
    "arr = np.arange(15).reshape((3,5))\r\n",
    "print(arr)\r\n",
    "print(arr.T)\r\n",
    "# 矩阵内积即矩阵乘法\r\n",
    "print(np.dot(arr.T,arr))\r\n",
    "# 对于高维数组，需要一个由轴编号组成的元组才能对这些轴进行转置\r\n",
    "arr = np.arange(16).reshape((2,2,4))\r\n",
    "print(arr)\r\n",
    "print(arr.transpose((1,0,2)))   # 正常（0，1，2）\r\n",
    "# 转置第一个轴和第二个轴，第三个轴不变，三维图形上对侧面矩阵进行转置\r\n",
    "# [0][1]与[1][0]互换位置\r\n",
    "# swapaxes方法 也是对轴进行转置 \r\n",
    "print(arr.swapaxes(1,2))"
   ],
   "outputs": [],
   "metadata": {}
  },
  {
   "cell_type": "code",
   "execution_count": null,
   "source": [
    "# 元素级别的数组函数\r\n",
    "arr = np.arange(10)\r\n",
    "print(np.sqrt(arr))\r\n",
    "print(np.exp(arr))\r\n",
    "x = np.random.randn(8)\r\n",
    "y = np.random.randn(8)\r\n",
    "np.maximum(x,y)\r\n",
    "# modf是divmod的矢量化版本，返回浮点数的整数和小数部分\r\n",
    "arr = np.random.randn(7)*5\r\n",
    "remainder, whole_part = np.modf(arr)\r\n",
    "print(remainder)\r\n",
    "print(whole_part)"
   ],
   "outputs": [],
   "metadata": {}
  },
  {
   "cell_type": "markdown",
   "source": [
    "# 4.5 numpy的数据处理\r\n",
    "- 随机数组的生成\r\n",
    "- 可视化\r\n",
    "- 条件逻辑对数组进行处理\r\n",
    "- 描述性统计\r\n",
    "- 排序\r\n",
    "- 集合、唯一化\r\n",
    "- 存储和加载"
   ],
   "metadata": {}
  },
  {
   "cell_type": "code",
   "execution_count": null,
   "source": [
    "points = np.arange(-5,5,0.01)     # -5,5 以0.01为间隔\r\n",
    "xs,ys = np.meshgrid(points,points) # 接受两个一维数组，产生两个二维数组\r\n",
    "z = np.sqrt(xs ** 2 + ys ** 2)\r\n",
    "print(z)"
   ],
   "outputs": [],
   "metadata": {}
  },
  {
   "cell_type": "code",
   "execution_count": null,
   "source": [
    "# 可视化\r\n",
    "plt.imshow(z,cmap=plt.cm.gray)\r\n",
    "plt.colorbar()\r\n",
    "plt.title('Image plot of $\\sqrt{x^2+y^2}$ for a grid of values')"
   ],
   "outputs": [],
   "metadata": {}
  },
  {
   "cell_type": "code",
   "execution_count": null,
   "source": [
    "# 条件逻辑表述为数组运算\r\n",
    "xarr = np.array([1.1, 1.2, 1.3, 1.4, 1.5])\r\n",
    "yarr = np.array([2.1, 2.2, 2.3, 2.4, 2.5])\r\n",
    "cond = np.array([True,False,True,True,False])\r\n",
    "# 列表推导式\r\n",
    "result = [(x if c else y)\r\n",
    "                for x,y,c in zip(xarr,yarr,cond)]\r\n",
    "print(result)\r\n",
    "# numpy函数\r\n",
    "result = np.where(cond,xarr,yarr) # 第一个参数是条件\r\n",
    "print(result) \r\n",
    "# np.where 也可以将数组中的元素按条件替换\r\n",
    "arr = np.random.randn(3,4)\r\n",
    "print(arr>0)\r\n",
    "result = np.where(arr>0,2,-2)  # 类似excel的if函数，是一种取值函数\r\n",
    "print(result)\r\n",
    "result = np.where(arr>0,2,arr) # 满足条件取2，不满足条件取arr中的值\r\n",
    "print(result)"
   ],
   "outputs": [],
   "metadata": {}
  },
  {
   "cell_type": "code",
   "execution_count": null,
   "source": [
    "# 统计方法\r\n",
    "# 既可以当作arr对象的一个方法也可以用np.mean这样的函数\r\n",
    "arr = np.random.randn(5,4)\r\n",
    "print(arr)\r\n",
    "print(arr.mean())\r\n",
    "print(np.mean(arr))\r\n",
    "# 这类函数可以接受一个axis参数做聚类\r\n",
    "print(arr.mean(axis=1)) # 列运算，沿轴方向运算\r\n",
    "print(arr.mean(axis=0)) # 行运算\r\n",
    "print(arr.sum(1))\r\n",
    "# 累加函数，不聚合，产生一个包含中间结果的数组\r\n",
    "arr = np.array([0,1,2,3,4,5,6,7,8,9])\r\n",
    "print(arr.cumsum())\r\n",
    "arr = np.array([[1,2,3],[4,5,6],[7,8,9]])\r\n",
    "print(arr.cumsum(axis=0))\r\n",
    "print(arr.cumprod(axis=1))\r\n"
   ],
   "outputs": [],
   "metadata": {}
  },
  {
   "cell_type": "code",
   "execution_count": null,
   "source": [
    "# 布尔型数组\r\n",
    "# 统计满足条件的元素个数\r\n",
    "arr  = np.random.randn(100)\r\n",
    "print((arr>0).sum())\r\n",
    "# any 至少一个满足条件\r\n",
    "# all 所有都满足条件\r\n",
    "bools = np.array([False,False,True,False])\r\n",
    "print(bools.any())\r\n",
    "print(bools.all())"
   ],
   "outputs": [],
   "metadata": {}
  },
  {
   "cell_type": "code",
   "execution_count": null,
   "source": [
    "# 排序\r\n",
    "arr = np.random.randn(6)\r\n",
    "print(arr)\r\n",
    "arr.sort()\r\n",
    "print(arr)\r\n",
    "arr = np.random.randn(3,4)\r\n",
    "print(arr)\r\n",
    "arr.sort(1)\r\n",
    "print(arr)\r\n",
    "# 分位数求法\r\n",
    "large_arr = np.random.randn(1000)\r\n",
    "large_arr.sort()\r\n",
    "large_arr[int(0.05*len(large_arr))]  # 5%分位数"
   ],
   "outputs": [],
   "metadata": {}
  },
  {
   "cell_type": "code",
   "execution_count": null,
   "source": [
    "# 集合-唯一化\r\n",
    "names = np.array(['Bob','Joe','Will','Bob','Will','Joe','Joe'])\r\n",
    "print(np.unique(names)) # numpy\r\n",
    "print(sorted(set(names))) # python\r\n",
    "# 检验数组中的元素是否在另一个数组中\r\n",
    "values = np.array([1,2,3,4,5,6,7,2])\r\n",
    "print(np.in1d(values,[2,3,6])) # x的元素是否包含于y\r\n",
    "print(np.intersect1d(values,[2,3,5])) # 交集\r\n",
    "print(np.union1d(values,[2,3,5,8])) # 并集\r\n",
    "print(np.setdiff1d(values,[2,3,5,8]))   # 差的集合\r\n",
    "print(np.setxor1d(values,[2,3,9,0]))  # 对称差，去掉交集部分"
   ],
   "outputs": [],
   "metadata": {}
  },
  {
   "cell_type": "code",
   "execution_count": null,
   "source": [
    "# 数组的保存和加载\r\n",
    "arr = np.random.randn(3,4)\r\n",
    "np.save('some_array',arr)\r\n",
    "arr_load = np.load('some_array.npy')\r\n",
    "print(arr_load)"
   ],
   "outputs": [],
   "metadata": {}
  },
  {
   "cell_type": "code",
   "execution_count": null,
   "source": [
    "# 多个数组的保存和加载，以关键字存储\r\n",
    "np.savez('arr_group.npz',a=arr,b=arr_load)\r\n",
    "group = np.load('arr_group.npz')\r\n",
    "print(group['a'])  # 类似字典\r\n",
    "# 如果要对数据进行压缩，可以使用savez_compressed函数"
   ],
   "outputs": [],
   "metadata": {}
  },
  {
   "cell_type": "markdown",
   "source": [
    "# 4.6 numpy线性代数\r\n",
    " - 矩阵乘法\r\n",
    " - 矩阵分解QR SVD\r\n",
    " - 逆、行列式、特征值\r\n",
    " - 方程组"
   ],
   "metadata": {}
  },
  {
   "cell_type": "code",
   "execution_count": null,
   "source": [
    "#  矩阵乘法\r\n",
    "x = np.array([[1,2,3],[4,5,6]])\r\n",
    "y = np.array([[2,3,4],[5,6,7],[6,7,8]])\r\n",
    "print(np.dot(x,y))\r\n",
    "print(x.dot(y))"
   ],
   "outputs": [],
   "metadata": {}
  },
  {
   "cell_type": "code",
   "execution_count": null,
   "source": [
    "# 矩阵分解、逆、行列式、方程组求解等\r\n",
    "from numpy.linalg import inv,qr,det\r\n",
    "\r\n",
    "X = np.random.randn(4,4)\r\n",
    "mat = X.T.dot(X)   # (X'X)\r\n",
    "A = inv(mat)  #(X'X)-1\r\n",
    "Q = A.dot(mat) \r\n",
    "P = A.dot(X.T)\r\n",
    "print(P)\r\n",
    "print(Q)\r\n",
    "# qr分解\r\n",
    "q,r= qr(mat)\r\n",
    "print(q)\r\n",
    "print(r)\r\n",
    "print(mat.trace())\r\n",
    "print(np.linalg.det(mat))"
   ],
   "outputs": [],
   "metadata": {}
  },
  {
   "cell_type": "markdown",
   "source": [
    "# 4.7 伪随机数的生成\r\n",
    "- numpy适合生成大量样本"
   ],
   "metadata": {}
  },
  {
   "cell_type": "code",
   "execution_count": null,
   "source": [
    "data = np.random.normal(size=(4,4))\r\n",
    "print(data)"
   ],
   "outputs": [],
   "metadata": {}
  },
  {
   "cell_type": "code",
   "execution_count": null,
   "source": [
    "# python生成10000个样本\r\n",
    "from random import normalvariate\r\n",
    "N=1000000\r\n",
    "samples = [normalvariate(0,1) for _ in range(N)]"
   ],
   "outputs": [],
   "metadata": {}
  },
  {
   "cell_type": "code",
   "execution_count": null,
   "source": [
    "# np生成100000个样本\r\n",
    "samples = np.random.normal(size=N)"
   ],
   "outputs": [],
   "metadata": {}
  },
  {
   "cell_type": "code",
   "execution_count": null,
   "source": [
    "# 伪随机数：根据随机数种子生成\r\n",
    "# 可以更改种子\r\n",
    "np.random.seed(1234)\r\n",
    "arr = np.random.randn(10)\r\n",
    "print(arr)\r\n",
    "np.random.seed(1233)\r\n",
    "arr = np.random.randn(10)\r\n",
    "print(arr)"
   ],
   "outputs": [],
   "metadata": {}
  },
  {
   "cell_type": "markdown",
   "source": [
    "# 4.7 随机漫步实例"
   ],
   "metadata": {}
  },
  {
   "cell_type": "code",
   "execution_count": 70,
   "source": [
    "# 纯python语法\r\n",
    "import random \r\n",
    "\r\n",
    "position = 0\r\n",
    "walk = [position]\r\n",
    "steps = 1000\r\n",
    "for i in range(steps):\r\n",
    "    step = 1 if random.randint(0,1) else -1   # 0,1之间的整数只有0和1，其中0为false\r\n",
    "    position += step\r\n",
    "    walk.append(position)\r\n",
    "plt.plot(walk[:100])"
   ],
   "outputs": [
    {
     "output_type": "execute_result",
     "data": {
      "text/plain": [
       "[<matplotlib.lines.Line2D at 0x1ad31585208>]"
      ]
     },
     "metadata": {},
     "execution_count": 70
    },
    {
     "output_type": "display_data",
     "data": {
      "text/plain": [
       "<Figure size 432x288 with 1 Axes>"
      ],
      "image/png": "[encoded data removed]"
     },
     "metadata": {
      "needs_background": "light"
     }
    }
   ],
   "metadata": {}
  },
  {
   "cell_type": "code",
   "execution_count": 76,
   "source": [
    "# numpy计算累计和\r\n",
    "nsteps = 1000\r\n",
    "draws = np.random.randint(0,2,size=nsteps) #0-1的整数\r\n",
    "# print(draws)\r\n",
    "steps = np.where(draws>0,1,-1)\r\n",
    "walk = steps.cumsum()\r\n",
    "print(walk[:100])\r\n",
    "plt.plot(walk[:100])\r\n",
    "# 计算最大值和最小值\r\n",
    "minwalk = walk.min()\r\n",
    "maxwalk = walk.max()\r\n",
    "print(minwalk,maxwalk)\r\n",
    "# 计算首达时间：第一次走10步的索引\r\n",
    "t = (np.abs(walk)>=10).argmax()\r\n",
    "print(t)"
   ],
   "outputs": [
    {
     "output_type": "stream",
     "name": "stdout",
     "text": [
      "[-1  0  1  2  3  4  5  4  5  6  7  8  7  6  7  6  5  4  5  4  5  6  5  6\n",
      "  5  4  3  4  3  4  3  4  5  6  5  6  5  6  7  6  5  6  5  4  3  4  3  4\n",
      "  3  2  1  2  3  4  5  6  5  6  5  4  5  4  3  2  3  2  3  4  3  4  3  2\n",
      "  1  2  3  2  3  4  5  6  5  6  5  6  7  8  7  6  7  8  7  8  9 10 11 10\n",
      " 11 12 11 12]\n",
      "-1 47\n",
      "93\n"
     ]
    },
    {
     "output_type": "display_data",
     "data": {
      "text/plain": [
       "<Figure size 432x288 with 1 Axes>"
      ],
      "image/png": "[encoded data removed]"
     },
     "metadata": {
      "needs_background": "light"
     }
    }
   ],
   "metadata": {}
  },
  {
   "cell_type": "code",
   "execution_count": 81,
   "source": [
    "# 模拟多个随机游走\r\n",
    "nwalks = 5000\r\n",
    "nsteps = 1000\r\n",
    "steps = np.random.randint(0,2,size=(nwalks,nsteps))\r\n",
    "steps = np.where(steps>0,1,-1)\r\n",
    "walk = np.cumsum(steps,axis=1)\r\n",
    "print(walk[:100])\r\n",
    "min_walk = walk.min()\r\n",
    "max_walk = walk.max()\r\n",
    "print(min_walk,max_walk)\r\n",
    "# 首达时间，对所有行进行检查？不，用any函数\r\n",
    "hits30 = (np.abs(walk)>=30).any(1) # 检查哪一行到达了30\r\n",
    "print(hits30)\r\n",
    "hist30.sum()\r\n",
    "# 计算首达时间\r\n",
    "crossing_times = (np.abs(walk[hits30])>=30).argmax(1)  #选取达到30的行数计算首达时间\r\n",
    "print(crossing_times)\r\n",
    "print(crossing_times.mean())  # 平均首达时间\r\n"
   ],
   "outputs": [
    {
     "output_type": "stream",
     "name": "stdout",
     "text": [
      "[[  1   0   1 ...  22  23  24]\n",
      " [ -1  -2  -3 ...  12  11  12]\n",
      " [  1   2   1 ... -32 -33 -34]\n",
      " ...\n",
      " [ -1  -2  -3 ... -32 -33 -32]\n",
      " [  1   2   3 ...  14  13  12]\n",
      " [  1   0   1 ...  -2  -3  -2]]\n",
      "-114 147\n",
      "[ True False  True ...  True  True False]\n",
      "[231 397 571 ... 777 897 171]\n",
      "498.44862303819957\n"
     ]
    }
   ],
   "metadata": {}
  }
 ],
 "metadata": {
  "orig_nbformat": 4,
  "language_info": {
   "name": "python"
  }
 },
 "nbformat": 4,
 "nbformat_minor": 2
}