{
 "cells": [
  {
   "cell_type": "code",
   "execution_count": 1,
   "metadata": {},
   "outputs": [],
   "source": [
    "import pandas as pd"
   ]
  },
  {
   "cell_type": "code",
   "execution_count": 9,
   "metadata": {},
   "outputs": [
    {
     "data": {
      "text/html": [
       "<div>\n",
       "<style scoped>\n",
       "    .dataframe tbody tr th:only-of-type {\n",
       "        vertical-align: middle;\n",
       "    }\n",
       "\n",
       "    .dataframe tbody tr th {\n",
       "        vertical-align: top;\n",
       "    }\n",
       "\n",
       "    .dataframe thead th {\n",
       "        text-align: right;\n",
       "    }\n",
       "</style>\n",
       "<table border=\"1\" class=\"dataframe\">\n",
       "  <thead>\n",
       "    <tr style=\"text-align: right;\">\n",
       "      <th></th>\n",
       "      <th>userId</th>\n",
       "      <th>restId</th>\n",
       "      <th>rating</th>\n",
       "      <th>rating_env</th>\n",
       "      <th>rating_flavor</th>\n",
       "      <th>rating_service</th>\n",
       "      <th>timestamp</th>\n",
       "      <th>comment</th>\n",
       "    </tr>\n",
       "  </thead>\n",
       "  <tbody>\n",
       "    <tr>\n",
       "      <th>0</th>\n",
       "      <td>0</td>\n",
       "      <td>0</td>\n",
       "      <td>NaN</td>\n",
       "      <td>3.0</td>\n",
       "      <td>3.0</td>\n",
       "      <td>2.0</td>\n",
       "      <td>1250584020000</td>\n",
       "      <td>经常去的，不过我自己的卡很久不用，被冻了，只能用爸爸的。吉利莲的巧克力以前选择多些，最近一次...</td>\n",
       "    </tr>\n",
       "    <tr>\n",
       "      <th>1</th>\n",
       "      <td>1</td>\n",
       "      <td>0</td>\n",
       "      <td>NaN</td>\n",
       "      <td>4.0</td>\n",
       "      <td>4.0</td>\n",
       "      <td>4.0</td>\n",
       "      <td>1145639040000</td>\n",
       "      <td>喜欢在这里购物的感觉~~不在市中心,又是凭会员卡购物,因此不会有像家乐福\\沃尔马那种人多很挤...</td>\n",
       "    </tr>\n",
       "    <tr>\n",
       "      <th>2</th>\n",
       "      <td>2</td>\n",
       "      <td>0</td>\n",
       "      <td>5.0</td>\n",
       "      <td>3.0</td>\n",
       "      <td>3.0</td>\n",
       "      <td>3.0</td>\n",
       "      <td>1299115500000</td>\n",
       "      <td>NaN</td>\n",
       "    </tr>\n",
       "    <tr>\n",
       "      <th>3</th>\n",
       "      <td>3</td>\n",
       "      <td>0</td>\n",
       "      <td>NaN</td>\n",
       "      <td>3.0</td>\n",
       "      <td>4.0</td>\n",
       "      <td>4.0</td>\n",
       "      <td>1162821060000</td>\n",
       "      <td>很适合有车一族来采购，因为没有袋子给的，只有纸箱子！感觉有点像仓库，可是东西好啊，买得多的话...</td>\n",
       "    </tr>\n",
       "    <tr>\n",
       "      <th>4</th>\n",
       "      <td>4</td>\n",
       "      <td>0</td>\n",
       "      <td>NaN</td>\n",
       "      <td>3.0</td>\n",
       "      <td>4.0</td>\n",
       "      <td>3.0</td>\n",
       "      <td>1201107000000</td>\n",
       "      <td>里面有一些进口食品还是不错的，但个人感觉商品种类比较少，而且管理不是很灵活，退货比较麻烦。价...</td>\n",
       "    </tr>\n",
       "  </tbody>\n",
       "</table>\n",
       "</div>"
      ],
      "text/plain": [
       "   userId  restId  rating  rating_env  rating_flavor  rating_service  \\\n",
       "0       0       0     NaN         3.0            3.0             2.0   \n",
       "1       1       0     NaN         4.0            4.0             4.0   \n",
       "2       2       0     5.0         3.0            3.0             3.0   \n",
       "3       3       0     NaN         3.0            4.0             4.0   \n",
       "4       4       0     NaN         3.0            4.0             3.0   \n",
       "\n",
       "       timestamp                                            comment  \n",
       "0  1250584020000  经常去的，不过我自己的卡很久不用，被冻了，只能用爸爸的。吉利莲的巧克力以前选择多些，最近一次...  \n",
       "1  1145639040000  喜欢在这里购物的感觉~~不在市中心,又是凭会员卡购物,因此不会有像家乐福\\沃尔马那种人多很挤...  \n",
       "2  1299115500000                                                NaN  \n",
       "3  1162821060000  很适合有车一族来采购，因为没有袋子给的，只有纸箱子！感觉有点像仓库，可是东西好啊，买得多的话...  \n",
       "4  1201107000000  里面有一些进口食品还是不错的，但个人感觉商品种类比较少，而且管理不是很灵活，退货比较麻烦。价...  "
      ]
     },
     "execution_count": 9,
     "metadata": {},
     "output_type": "execute_result"
    }
   ],
   "source": [
    "# 导入数据\n",
    "data=pd.read_csv('ratings.csv')\n",
    "data.head()"
   ]
  },
  {
   "cell_type": "code",
   "execution_count": 16,
   "metadata": {},
   "outputs": [
    {
     "data": {
      "text/html": [
       "<div>\n",
       "<style scoped>\n",
       "    .dataframe tbody tr th:only-of-type {\n",
       "        vertical-align: middle;\n",
       "    }\n",
       "\n",
       "    .dataframe tbody tr th {\n",
       "        vertical-align: top;\n",
       "    }\n",
       "\n",
       "    .dataframe thead th {\n",
       "        text-align: right;\n",
       "    }\n",
       "</style>\n",
       "<table border=\"1\" class=\"dataframe\">\n",
       "  <thead>\n",
       "    <tr style=\"text-align: right;\">\n",
       "      <th></th>\n",
       "      <th>Name</th>\n",
       "      <th>Total</th>\n",
       "      <th>Percent</th>\n",
       "    </tr>\n",
       "  </thead>\n",
       "  <tbody>\n",
       "    <tr>\n",
       "      <th>0</th>\n",
       "      <td>rating_env</td>\n",
       "      <td>346253</td>\n",
       "      <td>7.829398</td>\n",
       "    </tr>\n",
       "    <tr>\n",
       "      <th>1</th>\n",
       "      <td>rating_service</td>\n",
       "      <td>346253</td>\n",
       "      <td>7.829398</td>\n",
       "    </tr>\n",
       "    <tr>\n",
       "      <th>2</th>\n",
       "      <td>rating_flavor</td>\n",
       "      <td>328654</td>\n",
       "      <td>7.431453</td>\n",
       "    </tr>\n",
       "    <tr>\n",
       "      <th>3</th>\n",
       "      <td>comment</td>\n",
       "      <td>315064</td>\n",
       "      <td>7.124159</td>\n",
       "    </tr>\n",
       "  </tbody>\n",
       "</table>\n",
       "</div>"
      ],
      "text/plain": [
       "             Name   Total   Percent\n",
       "0      rating_env  346253  7.829398\n",
       "1  rating_service  346253  7.829398\n",
       "2   rating_flavor  328654  7.431453\n",
       "3         comment  315064  7.124159"
      ]
     },
     "execution_count": 16,
     "metadata": {},
     "output_type": "execute_result"
    }
   ],
   "source": [
    "# 缺失值处理\n",
    "data = data[['comment','rating_env','rating_service','rating_flavor']]\n",
    "total = data.isnull().sum().sort_values(ascending=False)\n",
    "percent = ((data.isnull().sum() / data.isnull().count()) * 100).sort_values(ascending=False)\n",
    "missing_data = pd.concat([total, percent], axis=1, keys=['Total', 'Percent'])\n",
    "missing_data = missing_data.reset_index()\n",
    "missing_data.columns = ['Name', 'Total', 'Percent']\n",
    "missing_data"
   ]
  },
  {
   "cell_type": "code",
   "execution_count": 44,
   "metadata": {},
   "outputs": [],
   "source": [
    "def get_data(file_path,sample=15000):\n",
    "    data = pd.read_csv(file_path)\n",
    "    data.dropna(inplace=True)\n",
    "    sampledata =  data.sample(n=sample,random_state=1024)\n",
    "    sample_data = sampledata.reset_index().drop(['index'],axis=1)\n",
    "    return sample_data"
   ]
  },
  {
   "cell_type": "code",
   "execution_count": 56,
   "metadata": {},
   "outputs": [
    {
     "data": {
      "text/html": [
       "<div>\n",
       "<style scoped>\n",
       "    .dataframe tbody tr th:only-of-type {\n",
       "        vertical-align: middle;\n",
       "    }\n",
       "\n",
       "    .dataframe tbody tr th {\n",
       "        vertical-align: top;\n",
       "    }\n",
       "\n",
       "    .dataframe thead th {\n",
       "        text-align: right;\n",
       "    }\n",
       "</style>\n",
       "<table border=\"1\" class=\"dataframe\">\n",
       "  <thead>\n",
       "    <tr style=\"text-align: right;\">\n",
       "      <th></th>\n",
       "      <th>comment</th>\n",
       "      <th>label</th>\n",
       "    </tr>\n",
       "  </thead>\n",
       "  <tbody>\n",
       "    <tr>\n",
       "      <th>0</th>\n",
       "      <td>海鲜石锅拌饭可以,要很多锅巴就更不摆了,炸鱿鱼须不不错,关键是辣百菜狂爱!!!!!\\n</td>\n",
       "      <td>2.0</td>\n",
       "    </tr>\n",
       "    <tr>\n",
       "      <th>1</th>\n",
       "      <td>这里的生意真是好，晚到一些可能就要排队了……虽然点名叫做油爆虾，但是其他的小菜其实也不错，都...</td>\n",
       "      <td>3.0</td>\n",
       "    </tr>\n",
       "    <tr>\n",
       "      <th>2</th>\n",
       "      <td>非常普通的一家店，纯粹是被忽悠去的。本来同事请客在正大，后来嫌交通不方便该在张江。查了点评觉...</td>\n",
       "      <td>2.0</td>\n",
       "    </tr>\n",
       "    <tr>\n",
       "      <th>3</th>\n",
       "      <td>说实话这是我去过最让我不想再去的地方了。服务质量那叫个差劲啊！菜得味道很普通，量也一般，装修...</td>\n",
       "      <td>1.0</td>\n",
       "    </tr>\n",
       "    <tr>\n",
       "      <th>4</th>\n",
       "      <td>同事推荐的这家店，淘宝上的实体店，我是到店铺自取手机的，因此事先打了N个电话，接线的服务人员...</td>\n",
       "      <td>3.0</td>\n",
       "    </tr>\n",
       "  </tbody>\n",
       "</table>\n",
       "</div>"
      ],
      "text/plain": [
       "                                             comment  label\n",
       "0        海鲜石锅拌饭可以,要很多锅巴就更不摆了,炸鱿鱼须不不错,关键是辣百菜狂爱!!!!!\\n    2.0\n",
       "1  这里的生意真是好，晚到一些可能就要排队了……虽然点名叫做油爆虾，但是其他的小菜其实也不错，都...    3.0\n",
       "2  非常普通的一家店，纯粹是被忽悠去的。本来同事请客在正大，后来嫌交通不方便该在张江。查了点评觉...    2.0\n",
       "3  说实话这是我去过最让我不想再去的地方了。服务质量那叫个差劲啊！菜得味道很普通，量也一般，装修...    1.0\n",
       "4  同事推荐的这家店，淘宝上的实体店，我是到店铺自取手机的，因此事先打了N个电话，接线的服务人员...    3.0"
      ]
     },
     "execution_count": 56,
     "metadata": {},
     "output_type": "execute_result"
    }
   ],
   "source": [
    "# 根据环境、口味、服务评分生成新的标签\n",
    "def get_labels(data):\n",
    "    data['label'] = ((data['rating_env']+data['rating_flavor']+data['rating_service'])//3)\n",
    "    return data.drop(['rating_env','rating_flavor','rating_service'],axis=1)\n",
    "dataset = get_labels(sample_data)\n",
    "dataset.head()"
   ]
  },
  {
   "cell_type": "code",
   "execution_count": 59,
   "metadata": {},
   "outputs": [
    {
     "data": {
      "text/html": [
       "<div>\n",
       "<style scoped>\n",
       "    .dataframe tbody tr th:only-of-type {\n",
       "        vertical-align: middle;\n",
       "    }\n",
       "\n",
       "    .dataframe tbody tr th {\n",
       "        vertical-align: top;\n",
       "    }\n",
       "\n",
       "    .dataframe thead th {\n",
       "        text-align: right;\n",
       "    }\n",
       "</style>\n",
       "<table border=\"1\" class=\"dataframe\">\n",
       "  <thead>\n",
       "    <tr style=\"text-align: right;\">\n",
       "      <th></th>\n",
       "      <th>comment</th>\n",
       "      <th>label</th>\n",
       "    </tr>\n",
       "  </thead>\n",
       "  <tbody>\n",
       "    <tr>\n",
       "      <th>0</th>\n",
       "      <td>海鲜石锅拌饭可以 要很多锅巴就更不摆了 炸鱿鱼须不不错 关键是辣百菜狂爱</td>\n",
       "      <td>2.0</td>\n",
       "    </tr>\n",
       "    <tr>\n",
       "      <th>1</th>\n",
       "      <td>这里的生意真是好 晚到一些可能就要排队了  虽然点名叫做油爆虾 但是其他的小菜其实也不错 都...</td>\n",
       "      <td>3.0</td>\n",
       "    </tr>\n",
       "    <tr>\n",
       "      <th>2</th>\n",
       "      <td>非常普通的一家店 纯粹是被忽悠去的 本来同事请客在正大 后来嫌交通不方便该在张江 查了点评觉...</td>\n",
       "      <td>2.0</td>\n",
       "    </tr>\n",
       "    <tr>\n",
       "      <th>3</th>\n",
       "      <td>说实话这是我去过最让我不想再去的地方了 服务质量那叫个差劲啊 菜得味道很普通 量也一般 装修...</td>\n",
       "      <td>1.0</td>\n",
       "    </tr>\n",
       "    <tr>\n",
       "      <th>4</th>\n",
       "      <td>同事推荐的这家店 淘宝上的实体店 我是到店铺自取手机的 因此事先打了N个电话 接线的服务人员...</td>\n",
       "      <td>3.0</td>\n",
       "    </tr>\n",
       "  </tbody>\n",
       "</table>\n",
       "</div>"
      ],
      "text/plain": [
       "                                             comment  label\n",
       "0               海鲜石锅拌饭可以 要很多锅巴就更不摆了 炸鱿鱼须不不错 关键是辣百菜狂爱    2.0\n",
       "1  这里的生意真是好 晚到一些可能就要排队了  虽然点名叫做油爆虾 但是其他的小菜其实也不错 都...    3.0\n",
       "2  非常普通的一家店 纯粹是被忽悠去的 本来同事请客在正大 后来嫌交通不方便该在张江 查了点评觉...    2.0\n",
       "3  说实话这是我去过最让我不想再去的地方了 服务质量那叫个差劲啊 菜得味道很普通 量也一般 装修...    1.0\n",
       "4  同事推荐的这家店 淘宝上的实体店 我是到店铺自取手机的 因此事先打了N个电话 接线的服务人员...    3.0"
      ]
     },
     "execution_count": 59,
     "metadata": {},
     "output_type": "execute_result"
    }
   ],
   "source": [
    "# 替换文本中的特殊符号\n",
    "import re\n",
    "def clear_str(string):\n",
    "    string = re.sub(r'\\W', ' ',string)\n",
    "    string = re.sub(r'_', ' ',string)\n",
    "    return string.strip()\n",
    "dataset['comment'] = dataset['comment'].apply(clear_str)\n",
    "dataset.head()"
   ]
  },
  {
   "cell_type": "code",
   "execution_count": 66,
   "metadata": {},
   "outputs": [],
   "source": [
    "# 数据集的分割\n",
    "from sklearn.model_selection import train_test_split\n",
    "\n",
    "def split_data(dataset):\n",
    "    X=dataset['comment']\n",
    "    y=dataset['label'].astype(str)\n",
    "    X_train, X_test, y_train, y_test = train_test_split(\n",
    "        X, y, test_size=0.1, random_state=1024)\n",
    "    X_train, X_dev, y_train, y_dev = train_test_split(\n",
    "        X_train, y_train, test_size=0.1, random_state=1024)\n",
    "    traindf=pd.DataFrame({'comment':X_train,'label':y_train}).reset_index(drop=True)\n",
    "    devdf=pd.DataFrame({'comment':X_dev,'label':y_dev}).reset_index(drop=True)\n",
    "    testdf=pd.DataFrame({'comment':X_test}).reset_index(drop=True)\n",
    "    test_label = pd.DataFrame({'label':y_test}).reset_index(drop=True)\n",
    "    return traindf,devdf,testdf,test_label\n",
    "\n",
    "traindf,devdf,testdf,test_label = split_data(dataset=dataset)\n",
    "# 保存训练集、验证集、测试集样本,为了节省时间取部分数据进行训练\n",
    "traindf.to_csv('../data/sa/train.txt',sep='\\t',index=False,header=None)\n",
    "devdf.to_csv('../data/sa/dev.txt',sep='\\t',index=False,header=None)\n",
    "testdf.to_csv('../data/sa/test.txt',sep='\\t',index=False,header=None)\n",
    "test_label.to_csv('../data/sa/label.txt',index=False,header=None)"
   ]
  },
  {
   "cell_type": "code",
   "execution_count": 72,
   "metadata": {},
   "outputs": [
    {
     "data": {
      "text/plain": [
       "['首先', '高兴', '是不是', '说说', '']"
      ]
     },
     "execution_count": 72,
     "metadata": {},
     "output_type": "execute_result"
    }
   ],
   "source": [
    "def get_stop_words(stop_words_path):\n",
    "    stop_words = []\n",
    "    with open(stop_words_path, 'r', encoding='utf-8') as f:\n",
    "        for line in f:\n",
    "            stop_words.append(line.strip())\n",
    "    return stop_words\n",
    "\n",
    "stop_words_path =  '../data/sa/baidu_stopwords.txt'\n",
    "stop_words = get_stop_words(stop_words_path)\n",
    "stop_words[-5:]"
   ]
  },
  {
   "cell_type": "code",
   "execution_count": 86,
   "metadata": {},
   "outputs": [],
   "source": [
    "x = devdf.comment.apply(len)"
   ]
  },
  {
   "cell_type": "code",
   "execution_count": 76,
   "metadata": {},
   "outputs": [],
   "source": [
    "def cut_words(sentence, stop_words):\n",
    "    import jieba\n",
    "    cut_word = jieba.cut(str(sentence).strip())\n",
    "    if stop_words:\n",
    "        words = [word for word in cut_word if word not in stop_words]\n",
    "    else:\n",
    "        words = list(cut_word)\n",
    "    return words"
   ]
  },
  {
   "cell_type": "code",
   "execution_count": 80,
   "metadata": {},
   "outputs": [
    {
     "name": "stderr",
     "output_type": "stream",
     "text": [
      "Building prefix dict from the default dictionary ...\n",
      "Dumping model to file cache C:\\Users\\wang\\AppData\\Local\\Temp\\jieba.cache\n",
      "Loading model cost 1.028 seconds.\n",
      "Prefix dict has been built successfully.\n"
     ]
    }
   ],
   "source": [
    "traindf['comment'] = traindf['comment'].apply(cut_words, stop_words=stop_words)"
   ]
  },
  {
   "cell_type": "code",
   "execution_count": 91,
   "metadata": {},
   "outputs": [],
   "source": [
    "from gensim.models.word2vec import Word2Vec\n",
    "import logging\n",
    "import multiprocessing\n",
    "\n",
    "def train_w2v(sentences,embbedding_size=216):\n",
    "    logging.basicConfig(filename='word2vec.log',level=logging.INFO)\n",
    "    logging.info('Training word2vec embedding...')\n",
    "    w2v_model = Word2Vec(vector_size=embbedding_size, workers=multiprocessing.cpu_count(), min_count=10, sg=0)\n",
    "    w2v_model.build_vocab(sentences)\n",
    "    w2v_model.train(sentences, total_examples=w2v_model.corpus_count, epochs=100)\n",
    "    w2v_model.save('../model/w2vmodel')\n",
    "sentences = traindf['comment'].to_list()\n",
    "train_w2v(sentences)"
   ]
  },
  {
   "cell_type": "code",
   "execution_count": 96,
   "metadata": {},
   "outputs": [],
   "source": [
    "from gensim.models import KeyedVectors\n",
    "\n",
    "w2v_model = Word2Vec.load('../model/w2vmodel')\n",
    "word_vectors = w2v_model.wv\n",
    "word_vectors.save(\"../model/word2vec.wordvectors\")"
   ]
  },
  {
   "cell_type": "code",
   "execution_count": 98,
   "metadata": {},
   "outputs": [],
   "source": [
    "wv = KeyedVectors.load(\"../model/word2vec.wordvectors\", mmap='r')"
   ]
  },
  {
   "cell_type": "code",
   "execution_count": 123,
   "metadata": {},
   "outputs": [],
   "source": [
    "# 词向量空间\n",
    "word_vectors = wv.vectors\n",
    "# 词表\n",
    "word2index =  wv.key_to_index"
   ]
  },
  {
   "cell_type": "code",
   "execution_count": 125,
   "metadata": {},
   "outputs": [],
   "source": [
    "vocab_path = '../model/vocab.txt'\n",
    "with open(vocab_path, 'w', encoding='utf-8') as f:\n",
    "    for word, index in word2index.items():\n",
    "        f.write(word + '\\t' + str(index) + '\\n')"
   ]
  }
 ],
 "metadata": {
  "interpreter": {
   "hash": "4c608323a731a545a36c8aa291ada9a8a1cb7d2b24e85fe896155454c9c49240"
  },
  "kernelspec": {
   "display_name": "Python 3.8.8 64-bit ('base': conda)",
   "name": "python3"
  },
  "language_info": {
   "codemirror_mode": {
    "name": "ipython",
    "version": 3
   },
   "file_extension": ".py",
   "mimetype": "text/x-python",
   "name": "python",
   "nbconvert_exporter": "python",
   "pygments_lexer": "ipython3",
   "version": "3.8.8"
  },
  "orig_nbformat": 4
 },
 "nbformat": 4,
 "nbformat_minor": 2
}
