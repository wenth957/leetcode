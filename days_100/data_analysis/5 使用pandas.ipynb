{
 "cells": [
  {
   "cell_type": "markdown",
   "source": [
    "@[toc](pandas的学习)"
   ],
   "metadata": {}
  },
  {
   "cell_type": "code",
   "execution_count": 23,
   "source": [
    "import numpy as np\r\n",
    "import pandas as pd \r\n",
    "from pandas import Series, DataFrame\r\n",
    "import pandas_datareader.data as web"
   ],
   "outputs": [],
   "metadata": {}
  },
  {
   "cell_type": "markdown",
   "source": [
    "#  5.1 Series数据\r\n",
    "- 索引\r\n",
    "- 运算：自动对齐\r\n",
    "- 缺失值、命名"
   ],
   "metadata": {}
  },
  {
   "cell_type": "code",
   "execution_count": null,
   "source": [
    "# Series 由一维数据和索引组成如时间序列数据，索引为时间\r\n",
    "series1 = pd.Series([1,3,5,7])\r\n",
    "print(series1)\r\n",
    "# 自定义索引\r\n",
    "series2 =pd.Series([1,3,4,6],index=['a','b','c','d'])\r\n",
    "series2\r\n",
    "series2.index\r\n",
    "# 通过索引的方式选取Series中的值\r\n",
    "value1 = series2['c']\r\n",
    "value2 = series2[['a','d','b']]\r\n",
    "value2"
   ],
   "outputs": [],
   "metadata": {}
  },
  {
   "cell_type": "code",
   "execution_count": null,
   "source": [
    "# Series的运算：类似numpy\r\n",
    "series3 = series2[series2>5]\r\n",
    "print(series3)\r\n",
    "series4 = series2*2\r\n",
    "print(series4)\r\n",
    "series5 = np.exp(series2)\r\n",
    "print(series5)"
   ],
   "outputs": [],
   "metadata": {}
  },
  {
   "cell_type": "code",
   "execution_count": null,
   "source": [
    "# 可以将series看作一个有序字典\r\n",
    "# 可以用字典来创建series\r\n",
    "print('a' in series2)\r\n",
    "sdata = {'zhao':1000,'qian':2000,'sun':3000,'zhou':4000}\r\n",
    "series6 = pd.Series(sdata)\r\n",
    "print(series6)\r\n",
    "# 同时可以指定索引，将字典的键按想要的顺序排列即可\r\n",
    "keys = ['sun','zhao','qian','li']\r\n",
    "series7 = pd.Series(sdata,index=keys) # 不是键的keys值为NaN\r\n",
    "# 是键但没有包含在keys的直接删去，不再序列中体现\r\n",
    "series7"
   ],
   "outputs": [],
   "metadata": {}
  },
  {
   "cell_type": "code",
   "execution_count": null,
   "source": [
    "# 缺失数据\r\n",
    "pd.isnull(series7) #pd中的函数\r\n",
    "pd.notnull(series7)\r\n",
    "series7.isnull()  # series实例的方法\r\n",
    "series7.notnull()\r\n",
    "# pd根据索引自动对齐数据\r\n",
    "result = series6+series7\r\n",
    "print(result)  # 只要有一处是缺失值，那么加起来也是缺失值\r\n",
    "# name属性\r\n",
    "series7.name = 'salary' # 序列名称\r\n",
    "series7.index.name  = 'name'\r\n",
    "series7"
   ],
   "outputs": [],
   "metadata": {}
  },
  {
   "cell_type": "markdown",
   "source": [
    "# 5.2 DataFrame创建\r\n",
    "- 一组有序列：行索引+列索引，series组成的字典\r\n",
    "- 一般是一个或多个二维块"
   ],
   "metadata": {}
  },
  {
   "cell_type": "code",
   "execution_count": null,
   "source": [
    "# 创建DataFrame 一般是直接传入一个由列表或数组组成的字典\r\n",
    "data = {\r\n",
    "    'state':['ohio','ohio','Nevada','Neveda','Nevada','wang'],   # 必须等长\r\n",
    "    'year':[2000,2001,2002,2003,2003,2004],\r\n",
    "    'pop': [1.5,1.7,3.6,2.4,2.9,3.0]\r\n",
    "}\r\n",
    "frame  = pd.DataFrame(data)\r\n",
    "frame"
   ],
   "outputs": [],
   "metadata": {}
  },
  {
   "cell_type": "code",
   "execution_count": null,
   "source": [
    "#预览DataFrame  head() tail()\r\n",
    "frame.head()"
   ],
   "outputs": [],
   "metadata": {}
  },
  {
   "cell_type": "code",
   "execution_count": null,
   "source": [
    "frame.tail()"
   ],
   "outputs": [],
   "metadata": {}
  },
  {
   "cell_type": "code",
   "execution_count": null,
   "source": [
    "# 如果制定了列序列，DataFrame可自定义排序\r\n",
    "df = pd.DataFrame(data,columns=['year','state','pop'])\r\n",
    "df"
   ],
   "outputs": [],
   "metadata": {}
  },
  {
   "cell_type": "code",
   "execution_count": null,
   "source": [
    "# 类似于series，如果传入的列在数据中找不到，就会产生缺失值\r\n",
    "frame2 = pd.DataFrame(data,columns=['year','state','pop','debt'],index=['one','two','three','four', 'five','six'])\r\n",
    "print(frame2.columns)\r\n",
    "print(frame2)\r\n",
    "# 从dataframe中获取序列 类似字典或属性的方式\r\n",
    "print(frame2.year)   # 要符合python命名特征\r\n",
    "print(frame2['pop']) # 实用性更强\r\n",
    "# 列的值可以通过赋值的方式修改\r\n",
    "frame2['debt'] = 14.1\r\n",
    "print(frame2)\r\n",
    "frame2['debt'] = np.arange(6.0)  # np中可以加小数  range只能是整数\r\n",
    "print(frame2)\r\n",
    "# 通过索引返回的列是数据的视图，并不是副本，因此修改后将直接反映在原数据上\r\n",
    "# del可以删除某列\r\n",
    "# 首先创建一列包含布尔值\r\n",
    "frame2['eastern'] = frame2.state == 'ohio'\r\n",
    "print(frame2)\r\n",
    "del frame2['eastern']\r\n",
    "print(frame2)"
   ],
   "outputs": [],
   "metadata": {}
  },
  {
   "cell_type": "code",
   "execution_count": null,
   "source": [
    "# 另一种DataFrame创建格式\r\n",
    "# 传入嵌套字典\r\n",
    "pop = {\r\n",
    "    'Nevada':{2001:2.4,2002:2.9},\r\n",
    "    'ohio':{2000:1.5,2001:1.7,2002:3.6}\r\n",
    "}\r\n",
    "frame3 = pd.DataFrame(pop)\r\n",
    "print(frame3) # 内层的键作为行，外层的键作为列\r\n",
    "# 内层字典的键会形成索引"
   ],
   "outputs": [],
   "metadata": {}
  },
  {
   "cell_type": "code",
   "execution_count": null,
   "source": [
    "# 也可以指定索引行\r\n",
    "df = pd.DataFrame(pop,index=[2001,2002,2003])\r\n",
    "print(df)\r\n",
    "# dataframe的转置\r\n",
    "print(frame3.T)"
   ],
   "outputs": [],
   "metadata": {}
  },
  {
   "cell_type": "code",
   "execution_count": null,
   "source": [
    "# 字典也可以由series组成\r\n",
    "pdata = {\r\n",
    "    'ohio': frame3['ohio'][:-1],\r\n",
    "    'Nevada': frame3['Nevada'][:2]\r\n",
    "}\r\n",
    "df = pd.DataFrame(pdata)\r\n",
    "print(df)"
   ],
   "outputs": [],
   "metadata": {}
  },
  {
   "cell_type": "code",
   "execution_count": null,
   "source": [
    "# 字典的列表:与嵌套字典正好相反 属于没有指定行索引\r\n",
    "sdata = [{\r\n",
    "    'name': 'wang',\r\n",
    "    'age':12},{\r\n",
    "        'name':'liu',\r\n",
    "        'age':22\r\n",
    "    }]\r\n",
    "df = pd.DataFrame(sdata)\r\n",
    "print(df)"
   ],
   "outputs": [],
   "metadata": {}
  },
  {
   "cell_type": "markdown",
   "source": [
    "# 总结： 创建方法\r\n",
    "- 二维数组\r\n",
    "- 由数组、列表、元组、series组成的字典，每个元素变成一列\r\n",
    "- 嵌套字典，内层字典成为1列，键被合并成行索引\r\n",
    "- 字典或series的列表 ：各项称为DF的一行，字典键和索引称为列表\r\n",
    "- 字典、元组组成的列表\r\n",
    "- 另一个DF"
   ],
   "metadata": {}
  },
  {
   "cell_type": "code",
   "execution_count": null,
   "source": [
    "# 设置行索引名，列索引名\r\n",
    "df.index.name = 'year'\r\n",
    "df.columns.name='features'\r\n",
    "print(df)\r\n",
    "print(df.values) # 会以数组形式返回\r\n",
    "frame2.values # 如果包含很多类型数据，会指定一种兼容的数据类型"
   ],
   "outputs": [],
   "metadata": {}
  },
  {
   "cell_type": "markdown",
   "source": [
    "# 5.3 索引对象\r\n",
    "- pandas用index对象来定义轴标签和轴名称等数据\r\n",
    "- 用到的数组或序列的标签都会转换成index对象\r\n",
    "- 索引对象确定后不可修改\r\n",
    "- 可使用python集合的方法"
   ],
   "metadata": {}
  },
  {
   "cell_type": "code",
   "execution_count": null,
   "source": [
    "obj = pd.Series(range(3),index=['a','b','c'])\r\n",
    "index = obj.index\r\n",
    "index[1:]"
   ],
   "outputs": [],
   "metadata": {}
  },
  {
   "cell_type": "code",
   "execution_count": null,
   "source": [
    "# 索引对象确定后不可修改\r\n",
    "# index[1] = 'd'\r\n",
    "# TypeError: Index does not support mutable operations\r\n",
    "# 可以自行创建索引然后在不同DF中使用 \r\n",
    "labels = pd.Index(np.arange(3))\r\n",
    "labels\r\n",
    "obj2  = pd.Series([1.5,-2.5,0],index=labels)\r\n",
    "obj2.index is labels\r\n",
    "frame3\r\n",
    "frame3.columns"
   ],
   "outputs": [],
   "metadata": {}
  },
  {
   "cell_type": "code",
   "execution_count": null,
   "source": [
    "# 类似于python集合运算，但可以包含相同元素\r\n",
    "labels_index = pd.Index(['foo','foo','bar','bar'])\r\n",
    "labels1 = labels_index.append(labels) # 添加到另一个index对象中\r\n",
    "print(labels1)\r\n",
    "labels2 = labels1.difference(labels_index) # 差集\r\n",
    "print(labels2)\r\n",
    "labels3 = labels1.intersection(labels) #交集\r\n",
    "print(labels3)\r\n",
    "# union并 \r\n",
    "labels3.delete(2)  # 删除索引\r\n",
    "labels3.drop(1)   # 删除值\r\n",
    "# insert 插入值到索引i处\r\n",
    "# unique计算唯一集合"
   ],
   "outputs": [],
   "metadata": {}
  },
  {
   "cell_type": "markdown",
   "source": [
    "# 5.4 pandas基本功能\r\n",
    "- 重新索引：不论原索引是什么，直接找感兴趣的数据\r\n",
    "- 移除某项数据：默认行，可以更换轴\r\n",
    "- 序列、DF的索引、切片\r\n",
    "- 标签运算符\r\n",
    "- 整数索引的注意事项：[-1]\r\n",
    "- 索引对齐与算数运算方法\r\n",
    "- Series与DF之间的运算：所有行、所有列、广播\r\n",
    "- 函数应用"
   ],
   "metadata": {}
  },
  {
   "cell_type": "code",
   "execution_count": null,
   "source": [
    "obj = pd.Series([4.5,7.2,5.3,3.6],index=['d','b','a','c'])\r\n",
    "print(obj)\r\n",
    "# reindex重新索引\r\n",
    "obj2 = obj.reindex(['a','b','c','d','e']) \r\n",
    "print(obj2)\r\n",
    "# 时间序列的插值处理\r\n",
    "obj3 = pd.Series(['blue','purple','yellow'],index=[0,2,4])\r\n",
    "print(obj3)\r\n",
    "obj3.reindex(range(6),method='ffill')\r\n",
    "print(obj3)  #ffill不会对原来对象进行修改 index会改变原来数据视图\r\n",
    "print(obj3.reindex(range(6),method='ffill'))"
   ],
   "outputs": [],
   "metadata": {}
  },
  {
   "cell_type": "code",
   "execution_count": null,
   "source": [
    "# 对于DataFrame类似\r\n",
    "df = pd.DataFrame(np.arange(9).reshape((3,3)),index=['a','b','c'],columns=['ohio','california','texas'])\r\n",
    "print(df)\r\n",
    "df1 = df.reindex(['a','b','c','d'])\r\n",
    "print(df1)\r\n",
    "# colums也可以重新索引\r\n",
    "states = ['ohio','utah','california']\r\n",
    "df2 = df.reindex(columns=states)\r\n",
    "print(df2)"
   ],
   "outputs": [],
   "metadata": {}
  },
  {
   "cell_type": "code",
   "execution_count": null,
   "source": [
    "# 丢弃某个轴上的项：序列\r\n",
    "obj = pd.Series(np.arange(5.),index=['a','b','c','d','e'])\r\n",
    "print(obj)\r\n",
    "obj1 = obj.drop('c')\r\n",
    "print(obj1)\r\n",
    "obj2 = obj.drop(['b','c'])  # 作为列表传入参数\r\n",
    "print(obj2)\r\n",
    "# DataFrame\r\n",
    "df1 = pd.DataFrame(\r\n",
    "    np.arange(16).reshape(4,4),\r\n",
    "    index = ['ojio','colorado','utah','newyork'],\r\n",
    "    columns=['one','two','three','four']\r\n",
    ")\r\n",
    "print(df1)\r\n",
    "df2 = df1.drop(['colorado','utah']) # 默认是索引,存储的drop对象\r\n",
    "print(df2)\r\n",
    "print(df1)\r\n",
    "df3 = df1.drop(['one','three'],axis=1) #固定轴方向，可以删除列\r\n",
    "df4 = df1.drop(['two','four'],axis='columns') # 等价操作\r\n",
    "print(df3)  \r\n",
    "print(df4)\r\n",
    "# drop函数的inplace参数可以对原始数据进行操作\r\n",
    "df5 = df1.drop(['colorado','utah'],inplace=True)\r\n",
    "print(df5)  # 返回的是删掉的对象\r\n",
    "print(df1) #对原始数据进行了改变，删除了部分数据，谨慎使用"
   ],
   "outputs": [],
   "metadata": {}
  },
  {
   "cell_type": "code",
   "execution_count": null,
   "source": [
    "# 序列索引\r\n",
    "obj = pd.Series(np.arange(4.0),index=['a','b','c','d'])\r\n",
    "print(obj['b'])\r\n",
    "print(obj[['b','d']])\r\n",
    "print(obj[[2,3]])\r\n",
    "print(obj[obj<2])\r\n",
    "# 序列切片\r\n",
    "print(obj['b':'d'])  # 与python不同末端是包含的\r\n",
    "print(obj[2:3])  # python\r\n",
    "obj[2:3] =5   #python\r\n",
    "print(obj)"
   ],
   "outputs": [],
   "metadata": {}
  },
  {
   "cell_type": "code",
   "execution_count": null,
   "source": [
    "# DataFrame索引、切片\r\n",
    "df1 = pd.DataFrame(\r\n",
    "    np.arange(16).reshape((4,4)),\r\n",
    "    index=['wang','liu','zhao','qian'],\r\n",
    "    columns=['one','two','three','four'])\r\n",
    "print(df1['one'])\r\n",
    "print(df1[['one','four']])\r\n",
    "print(df1[:2])\r\n",
    "print(df1[df1['three']>5])  #>5的所有行，类似excel\r\n",
    "# 布尔值\r\n",
    "df1[df1<5] = 0 # 直接对df1进行修改\r\n",
    "print(df1)\r\n",
    "# 标签运算符loc和iloc\r\n",
    "df1.loc['wang',['one','three']] # 类似numpy 选取行和列\r\n",
    "df1.loc[['wang','zhao'],['one','two']] # 选取子矩阵\r\n",
    "df1.iloc[2,[3,0,1]]  # 按整数索引选取\r\n",
    "df1.iloc[:,:3]      # 类似numpy\r\n",
    "# 选取某一位置标量\r\n",
    "df1.at['wang','one'] #必须输入标签\r\n",
    "df1.iat[0,0] # 输入整数索引"
   ],
   "outputs": [],
   "metadata": {}
  },
  {
   "cell_type": "code",
   "execution_count": null,
   "source": [
    "# 整数索引容易出错\r\n",
    "ser1 = pd.Series(np.arange(3.0))\r\n",
    "ser1\r\n",
    "ser1[1]   #会报错，与列表和元组索引语法不同\r\n",
    "# 采用非整数的索引\r\n",
    "ser1.index=['a','b','c']\r\n",
    "ser1\r\n",
    "ser1[-1] # 可以正常索引\r\n",
    "# 所以一般使用iloc进行索引\r\n",
    "ser1.index=[0,1,2]\r\n",
    "ser1\r\n",
    "ser1.loc[:1] #按标签索引是 0和1的index\r\n",
    "ser1.iloc[:1] # 按python索引进行索引 0的index"
   ],
   "outputs": [],
   "metadata": {}
  },
  {
   "cell_type": "code",
   "execution_count": null,
   "source": [
    "# 索引对齐\r\n",
    "# 索引为并集，但是值：算数运算NaN +num = NaN\r\n",
    "s1  = pd.Series([7.3,-2.5,3.4, 1.5],index=['a','c','d','e'])\r\n",
    "s2 = pd.Series([-2.1,3.6,-1.5,4,3.1],index = ['a','c','e','f','g'])\r\n",
    "s1\r\n",
    "s2\r\n",
    "s1+s2\r\n",
    "# 对于DataFrame对齐会发生在行和列上\r\n",
    "df1 = pd.DataFrame(\r\n",
    "    np.arange(9.0).reshape((3,3)),columns=list('bcd'),\r\n",
    "    index = ['ohio','texas','colorado']\r\n",
    ")\r\n",
    "df2 = pd.DataFrame(\r\n",
    "    np.arange(12.0).reshape((4,3)),columns=list('bde'),\r\n",
    "    index= ['utah', 'ohio','texas','oregon']\r\n",
    "\r\n",
    ")\r\n",
    "df1\r\n",
    "df2\r\n",
    "df1+df2\r\n",
    "# 索引并但是值为交\r\n",
    "# 若没有公用的行和列标签，那么结果为空\r\n",
    "df3  = pd.DataFrame({'A':[1,2]})\r\n",
    "df4 = pd.DataFrame({'B':[3,4]})\r\n",
    "df3\r\n",
    "df4\r\n",
    "df3+df4"
   ],
   "outputs": [],
   "metadata": {}
  },
  {
   "cell_type": "code",
   "execution_count": null,
   "source": [
    "# DataFrame的算数方法\r\n",
    "# 使用add方法，缺少索引时以0填充\r\n",
    "df1 = pd.DataFrame(\r\n",
    "    np.arange(12.0).reshape((3,4)),\r\n",
    "    columns=list('abcd'))\r\n",
    "df2 = pd.DataFrame(\r\n",
    "    np.arange(16.0).reshape((4,4)),\r\n",
    "    columns= list('bcde')\r\n",
    ")\r\n",
    "print(df1)\r\n",
    "print(df2)\r\n",
    "df1+df2\r\n",
    "df1.add(df2,fill_value=0) # 解决不了两个都有缺失值的问题\r\n",
    "df1.radd(df2,fill_value=0) # 逆方法radd\r\n",
    "df1.sub(df2,fill_value=0)  #减法df1-df2\r\n",
    "df1.rsub(df2,fill_value=0) #逆减法 df2-df1\r\n",
    "# div  rdiv 除法   floordiv rfloordiv整除 mul rmul乘法  pow,rpow乘方\r\n",
    "# 重新索引\r\n",
    "df1.reindex(columns=df2.columns,fill_value=0)"
   ],
   "outputs": [],
   "metadata": {}
  },
  {
   "cell_type": "code",
   "execution_count": null,
   "source": [
    "# DataFrame与Series之间的运算:默认匹配列对行运算\r\n",
    "# 二维数组与其某行之间的差\r\n",
    "arr  = np.arange(12.).reshape((3,4))\r\n",
    "print(arr)\r\n",
    "arr[0]\r\n",
    "arr-arr[0] # 每一行都会执行这一操作：广播\r\n",
    "# DataFrame与Series\r\n",
    "df1 = pd.DataFrame(\r\n",
    "    np.arange(12.).reshape((4,3)),\r\n",
    "    columns=list('abc'),\r\n",
    "    index= ['utah','ohio','texas','oregon']\r\n",
    "    )\r\n",
    "series1 = df1.iloc[0]\r\n",
    "print(df1)\r\n",
    "series1\r\n",
    "# 默认情况下，算数运算会将series的索引匹配到列，对每一行进行运算\r\n",
    "df1 - series1\r\n",
    "# 如果某个索引在DataFrame或series中不存在，则索引会形成并集\r\n",
    "series2 = pd.Series(range(3),index=list('acd'))\r\n",
    "df1 - series2"
   ],
   "outputs": [],
   "metadata": {}
  },
  {
   "cell_type": "code",
   "execution_count": null,
   "source": [
    "# 对行进行匹配对列运算需要用到函数方法\r\n",
    "series3 = df1['a']\r\n",
    "print(df1)\r\n",
    "series3\r\n",
    "df1.sub(series3,axis='index') # 传入希望匹配的轴索引\r\n"
   ],
   "outputs": [],
   "metadata": {}
  },
  {
   "cell_type": "code",
   "execution_count": null,
   "source": [
    "# 函数应用\r\n",
    "# abs\r\n",
    "df  = pd.DataFrame(\r\n",
    "    np.random.randn(4,3),columns=list('bde'),\r\n",
    "    index = ['utah','hoio','texas','oregon']\r\n",
    ")\r\n",
    "print(df)\r\n",
    "np.abs(df) #可以用numpy的函数方法"
   ],
   "outputs": [],
   "metadata": {}
  },
  {
   "cell_type": "code",
   "execution_count": null,
   "source": [
    "# 将函数应用到各行或各列上形成一维数组：取每列的极值\r\n",
    "f = lambda x: x.max() - x.min()\r\n",
    "df.apply(f)\r\n",
    "# 设置运算轴为columns\r\n",
    "df.apply(f,axis='columns')\r\n",
    "f  = lambda x: x.sum()\r\n",
    "df.apply(f,axis='index') #sum mean 都很容易实现\r\n",
    "# f 也可以是返回Series的函数\r\n",
    "\r\n",
    "\r\n",
    "def  f(x):\r\n",
    "    return pd.Series([x.min(),x.max()],index=['min','max'])\r\n",
    "\r\n",
    "df.apply(f)   # 这样可以编写描述性统计函数"
   ],
   "outputs": [],
   "metadata": {}
  },
  {
   "cell_type": "code",
   "execution_count": null,
   "source": [
    "# 元素级别的函数\r\n",
    "f_str = lambda x: '%.2f' % x   # 得到格式化字符串\r\n",
    "df.applymap(f_str) # 对所有元素的运算\r\n",
    "df['e'].map(f_str)"
   ],
   "outputs": [],
   "metadata": {}
  },
  {
   "cell_type": "code",
   "execution_count": null,
   "source": [
    "# 排序\r\n",
    "# 对索引排序\r\n",
    "ser1 = pd.Series(range(4),index=['d','a','b','c'])\r\n",
    "print(ser1)\r\n",
    "ser1.sort_index()\r\n",
    "df  = pd.DataFrame(\r\n",
    "    np.arange(8).reshape(2,4),index=['three','one'],\r\n",
    "    columns=['d','a','b','c'])\r\n",
    "print(df)\r\n",
    "df.sort_index()\r\n",
    "df.sort_index(1)\r\n",
    "df.sort_index(ascending=False)  # 上述都是默认升序排序，也可以降序排序\r\n",
    "df.sort_index(axis=1,ascending=False)\r\n",
    "# 对值排序\r\n",
    "ser1.sort_values(ascending=False)\r\n",
    "df.sort_values(by='b') #按某一列排序\r\n",
    "df1 = pd.DataFrame({\r\n",
    "    'b':[1,2,3,1],'c':[-2,-4,2,3]\r\n",
    "})\r\n",
    "df2 = df1.sort_values(by=['b','c'],ascending=[False,False])  # 当b列相同时，c列采用降序排列\r\n",
    "df3 = df1.sort_values(by='b',ascending=False)   # 通常使用这个，结果和上面时不同的\r\n",
    "print(df2)\r\n",
    "print(df3)"
   ],
   "outputs": [],
   "metadata": {}
  },
  {
   "cell_type": "code",
   "execution_count": null,
   "source": [
    "# 排名 rank方法\r\n",
    "# 按照值得大小给一个排名，相同值为平均排名\r\n",
    "ser1 = pd.Series([7,-5,7,4,2,0,4])\r\n",
    "ser1.rank()\r\n",
    "# 相同值出现顺序排名\r\n",
    "ser1.rank(method='first')\r\n",
    "# 降序\r\n",
    "ser1.rank(ascending=False,method='max') # 相同值取大的排名\r\n",
    "# min取最小的排名\r\n"
   ],
   "outputs": [],
   "metadata": {}
  },
  {
   "cell_type": "code",
   "execution_count": 10,
   "source": [
    "# 重复标签的索引\r\n",
    "series = pd.Series(range(5),index=['a','a','b','b','c'])\r\n",
    "series\r\n",
    "series.index.is_unique  #is_unique属性\r\n",
    "# 重复标签的索引返回一个series\r\n",
    "series['a']\r\n",
    "# 这样会使索引结果的数据类型不唯一，给数据处理带来困难\r\n",
    "# 通常假定索引不重复，对于DataFrame也是如此\r\n",
    "df = pd.DataFrame(np.random.randn(4,3),index=['a','a','b','b'])\r\n",
    "df\r\n",
    "df.loc['a'] #默认按列索引，加上loc可以像numpy一样索引"
   ],
   "outputs": [
    {
     "output_type": "execute_result",
     "data": {
      "text/plain": [
       "          0         1         2\n",
       "a -0.905191 -0.271237  0.745518\n",
       "a  0.299545 -1.165359  0.104516"
      ],
      "text/html": [
       "<div>\n",
       "<style scoped>\n",
       "    .dataframe tbody tr th:only-of-type {\n",
       "        vertical-align: middle;\n",
       "    }\n",
       "\n",
       "    .dataframe tbody tr th {\n",
       "        vertical-align: top;\n",
       "    }\n",
       "\n",
       "    .dataframe thead th {\n",
       "        text-align: right;\n",
       "    }\n",
       "</style>\n",
       "<table border=\"1\" class=\"dataframe\">\n",
       "  <thead>\n",
       "    <tr style=\"text-align: right;\">\n",
       "      <th></th>\n",
       "      <th>0</th>\n",
       "      <th>1</th>\n",
       "      <th>2</th>\n",
       "    </tr>\n",
       "  </thead>\n",
       "  <tbody>\n",
       "    <tr>\n",
       "      <th>a</th>\n",
       "      <td>-0.905191</td>\n",
       "      <td>-0.271237</td>\n",
       "      <td>0.745518</td>\n",
       "    </tr>\n",
       "    <tr>\n",
       "      <th>a</th>\n",
       "      <td>0.299545</td>\n",
       "      <td>-1.165359</td>\n",
       "      <td>0.104516</td>\n",
       "    </tr>\n",
       "  </tbody>\n",
       "</table>\n",
       "</div>"
      ]
     },
     "metadata": {},
     "execution_count": 10
    }
   ],
   "metadata": {}
  },
  {
   "cell_type": "markdown",
   "source": [
    "# 5.5 描述性统计\r\n",
    "- 基于没有缺失数据的假设"
   ],
   "metadata": {}
  },
  {
   "cell_type": "code",
   "execution_count": 22,
   "source": [
    "df = pd.DataFrame([[1.4,np.nan],[7.1,-4.5],[np.nan,np.nan],[0.75,-1.3]],index=['a','b','c','d'],columns = ['one','two'])\r\n",
    "print(df)   # 二维数组按照原来的格式添加标签\r\n",
    "df.sum() # 返回每列的和，series\r\n",
    "df.sum(axis=1) # 返回每行的和,默认会忽略na\r\n",
    "df.mean(axis='columns',skipna=False) #设置为false之后，只要有一个na就会是na\r\n",
    "# 层次化索引：可以在一个轴上定义多个索引 index=[['a','a','a','b',b',b','c','c','c','d','d','d'],[1,2,3,1,2,3,1,2,3]]     描述性统计函数利用level参数分组\r\n",
    "# 返回索引\r\n",
    "df.idxmax() # 每一列的最大值对应的行列索引\r\n",
    "# 累加\r\n",
    "df.cumsum()\r\n",
    "# 一次性产生多个汇总\r\n",
    "df.describe()  \r\n",
    "# 对于非数值的数据\r\n",
    "df1 = pd.Series(['a','a','b','c']*4)\r\n",
    "df1.describe()\r\n",
    "# 描述性统计方法汇总\r\n",
    "# count  样本数量\r\n",
    "# describe Series或describe列汇总数据\r\n",
    "# argmin argmax计算整数索引位置\r\n",
    "# idxmin idxmax 计算索引值位置\r\n",
    "# quantile 计算分位数（0，1）\r\n",
    "# sum\\mean\\median\r\n",
    "# mad 绝对离差\r\n",
    "# var/std/skew/kurt\r\n",
    "# cumsum/cummin/cummax/cumprod\r\n",
    "# diff 一阶差分\r\n",
    "# pct_change 百分比变化"
   ],
   "outputs": [
    {
     "output_type": "stream",
     "name": "stdout",
     "text": [
      "    one  two\n",
      "a  1.40  NaN\n",
      "b  7.10 -4.5\n",
      "c   NaN  NaN\n",
      "d  0.75 -1.3\n"
     ]
    },
    {
     "output_type": "execute_result",
     "data": {
      "text/plain": [
       "count     16\n",
       "unique     3\n",
       "top        a\n",
       "freq       8\n",
       "dtype: object"
      ]
     },
     "metadata": {},
     "execution_count": 22
    }
   ],
   "metadata": {}
  },
  {
   "cell_type": "code",
   "execution_count": null,
   "source": [
    "# # 相关系数和协方差\r\n",
    "# all_data = {\r\n",
    "#     ticker:web.get_data_yahoo(ticker)\r\n",
    "#     for ticker in ['AAPL','IBM','MSFT','GOOG']  # 字典生成器\r\n",
    "# }\r\n",
    "# price = pd.DataFrame(\r\n",
    "#     {ticker:data['Adj Close']\r\n",
    "#     for ticker,data  in all_data.items()}\r\n",
    "# )\r\n",
    "# volumn = pd.DataFrame(\r\n",
    "#     {ticker:data['Volumn']\r\n",
    "#     for ticker,data in all_data.items()}\r\n",
    "# )\r\n",
    "# returns = price.pct_change()\r\n",
    "# returns.tail()\r\n",
    "# returns['MSFT'].corr(returns['AAPL'])\r\n",
    "# returns.MSFT.corr(returns['AAPL'])\r\n",
    "# returns['MSFT'.cov(returns['AAPL'])]\r\n",
    "# returns.corr()\r\n",
    "# retunrs.cov()\r\n",
    "# # 也可以传入别的序列\r\n",
    "# returns.corrwith(returns.IBM)\r\n",
    "# 传入dataframe 计算同列名的相关系数\r\n",
    "# returns.corrwith(volumn)"
   ],
   "outputs": [],
   "metadata": {}
  },
  {
   "cell_type": "code",
   "execution_count": 52,
   "source": [
    "# 唯一值、频数、成员资格\r\n",
    "obj = pd.Series(['c','a','d','a','a','b','b','c','c'])\r\n",
    "# 唯一值\r\n",
    "uniques = obj.unique()\r\n",
    "uniques.sort()  # 直接对原序列操作\r\n",
    "uniques\r\n",
    "# 频数\r\n",
    "obj.value_counts() # 各个值得频数\r\n",
    "pd.value_counts(obj.values,sort=False) #可用于任何数组和序列\r\n",
    "# 成员资格 isin\r\n",
    "mask = obj.isin(['b','c']) \r\n",
    "mask  # 相当于if语句，等于则返回T，否则F\r\n",
    "obj[mask]\r\n",
    "# 给出一个数组各值到另一个数组的整数索引 Index(unique).get_indexer(match)\r\n",
    "to_match = pd.Series(['c','a','b','b','c','a'])\r\n",
    "unique_vals = pd.Series(['c','b','a'])\r\n",
    "pd.Index(unique_vals).get_indexer(to_match)\r\n",
    "# 类似与match函数"
   ],
   "outputs": [
    {
     "output_type": "execute_result",
     "data": {
      "text/plain": [
       "array([0, 2, 1, 1, 0, 2], dtype=int64)"
      ]
     },
     "metadata": {},
     "execution_count": 52
    }
   ],
   "metadata": {}
  },
  {
   "cell_type": "code",
   "execution_count": 55,
   "source": [
    "data = pd.DataFrame(\r\n",
    "    {'Qu1':[1,3,4,3,4],\r\n",
    "    'Qu2': [2,3,1,2,3],\r\n",
    "    'Qu3':[1,5,2,4,4]}\r\n",
    ")\r\n",
    "print(data)\r\n",
    "result = data.apply(pd.value_counts).fillna(0)   # 频数\r\n",
    "print(result)"
   ],
   "outputs": [
    {
     "output_type": "stream",
     "name": "stdout",
     "text": [
      "   Qu1  Qu2  Qu3\n",
      "0    1    2    1\n",
      "1    3    3    5\n",
      "2    4    1    2\n",
      "3    3    2    4\n",
      "4    4    3    4\n",
      "   Qu1  Qu2  Qu3\n",
      "1  1.0  1.0  1.0\n",
      "2  0.0  2.0  1.0\n",
      "3  2.0  2.0  0.0\n",
      "4  2.0  0.0  2.0\n",
      "5  0.0  0.0  1.0\n"
     ]
    }
   ],
   "metadata": {}
  }
 ],
 "metadata": {
  "orig_nbformat": 4,
  "language_info": {
   "name": "python"
  }
 },
 "nbformat": 4,
 "nbformat_minor": 2
}