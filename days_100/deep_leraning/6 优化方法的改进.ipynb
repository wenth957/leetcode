{
 "cells": [
  {
   "cell_type": "markdown",
   "source": [
    "# 6.1 参数的更新\r\n",
    "- SGD\r\n",
    "- Momentum\r\n",
    "- AdaGrad\r\n",
    "- Adam"
   ],
   "metadata": {}
  },
  {
   "cell_type": "markdown",
   "source": [
    "## 6.1.1 SGD\r\n",
    "- 简单但可能没有效率，比如f = 0.05x^2+y^2 \r\n",
    "- 梯度方向：可能并不指向最低点\r\n",
    "- 局部最小和全局最小"
   ],
   "metadata": {}
  },
  {
   "cell_type": "code",
   "execution_count": null,
   "source": [
    "import matplotlib.pyplot as plt\r\n",
    "from mpl_toolkits.mplot3d import Axes3D\r\n",
    "import numpy as np \r\n",
    "\r\n",
    "def f(x,y):\r\n",
    "    return np.power(x,2)/20 + np.power(y,2)\r\n",
    "\r\n",
    "fig1 = plt.figure()\r\n",
    "ax  = Axes3D(fig1)\r\n",
    "x = np.arange(-10,10,0.1)\r\n",
    "y = np.arange(-10,10,0.1)\r\n",
    "x,y = np.meshgrid(x,y)\r\n",
    "z = f(x,y)\r\n",
    "ax.plot_surface(x,y,z,rstride=1,cstride=1,cmap=plt.cm.coolwarm)\r\n",
    "ax.contourf(x,y,z,zdir='z', offset=-2,cmap=plt.cm.coolwarm)\r\n",
    "ax.set_xlabel('x',color='r')\r\n",
    "ax.set_ylabel('y',color='g')\r\n",
    "ax.set_zlabel('z',color='b')\r\n",
    "plt.show()\r\n",
    "# 可以看到等高线越靠近0，越稀疏，无变化\r\n",
    "# 同时等高线只在y轴方向变化"
   ],
   "outputs": [],
   "metadata": {}
  },
  {
   "cell_type": "code",
   "execution_count": null,
   "source": [
    "# 梯度图\r\n",
    "import matplotlib.pyplot as plt\r\n",
    "import numpy as np\r\n",
    "\r\n",
    "x = np.arange(-10,10,1)\r\n",
    "y= np.arange(-10,10,2)\r\n",
    "u,v = np.meshgrid(-x/10,-2*y) #负梯度方向\r\n",
    "fig,ax = plt.subplots()\r\n",
    "q = ax.quiver(x,y,u,v)\r\n",
    "ax.quiverkey(q,X=0.3,Y=1.1,U=10,label='Quiver Key,length=10',labelpos='E')\r\n",
    "plt.show()"
   ],
   "outputs": [],
   "metadata": {}
  },
  {
   "cell_type": "code",
   "execution_count": null,
   "source": [
    "class SGD:\r\n",
    "\r\n",
    "    def __init__(self,lr=0.01):\r\n",
    "        self.lr=lr\r\n",
    "    \r\n",
    "    def update(self,params,grads):\r\n",
    "        for key in params.keys():\r\n",
    "            params[key] -= grads[key]*self.lr\r\n",
    "\r\n",
    "# 测试\r\n",
    "params = {}\r\n",
    "params['x'] = [-7.2]\r\n",
    "params['y'] = [2.0]\r\n",
    "x = -7.2\r\n",
    "y = 2.0\r\n",
    "N=40\r\n",
    "lr = 0.9\r\n",
    "for i in range(N):\r\n",
    "    x  -= x/10*lr\r\n",
    "    y -= 2*y*lr\r\n",
    "    params['x'].append(x)\r\n",
    "    params['y'].append(y)\r\n",
    "\r\n",
    "params"
   ],
   "outputs": [],
   "metadata": {}
  },
  {
   "cell_type": "code",
   "execution_count": 42,
   "source": [
    "# 二维图像\r\n",
    "x = np.arange(-10,10,0.1)\r\n",
    "y = np.arange(-10,10,0.1)\r\n",
    "x,y = np.meshgrid(x,y)\r\n",
    "plt.contourf(x,y,f(x,y),cmap=plt.cm.coolwarm)\r\n",
    "plt.plot(params['x'],params['y'],color='black',marker='o',linestyle='solid')\r\n",
    "plt.show()\r\n",
    "# 之字形，反复横跳，效率不高"
   ],
   "outputs": [
    {
     "output_type": "display_data",
     "data": {
      "text/plain": [
       "<Figure size 432x288 with 1 Axes>"
      ],
      "image/png": "[encoded data removed]"
     },
     "metadata": {
      "needs_background": "light"
     }
    }
   ],
   "metadata": {}
  },
  {
   "cell_type": "markdown",
   "source": [
    "## 6.1.2 Momentum\r\n",
    "- 动量概念：类似小球在平面上运动\r\n",
    "- αv - lr*self.grads[key]\r\n",
    "- 有一个速度的方向 \r\n",
    "- 解决波动过大问题"
   ],
   "metadata": {}
  },
  {
   "cell_type": "code",
   "execution_count": null,
   "source": [
    "class Momentum:\r\n",
    "\r\n",
    "    def __init__(self,lr=0.01,momentum=0.9):\r\n",
    "        self.lr = lr\r\n",
    "        self.momentum = momentum\r\n",
    "        self.v = None\r\n",
    "    \r\n",
    "    def update(self,params,grads):\r\n",
    "        if self.v is None:\r\n",
    "            self.v = {}\r\n",
    "            for key,val in params.items():\r\n",
    "                self.v[key] = np.zeros_like(val)\r\n",
    "        \r\n",
    "        for key in params.keys():\r\n",
    "            self.v[key] = self.momentum*self.v[key] -self.lr*self.grads[key]\r\n",
    "            self.params[key] += self.v[key] # 改变了参数更新速度\r\n",
    "            # 本次更新速度受上次更新速度的影响\r\n",
    "            # 同时正负更新方向会相互抵消v[key] -grads[key]"
   ],
   "outputs": [],
   "metadata": {}
  },
  {
   "cell_type": "markdown",
   "source": [
    "## 6.1.3 AdaGrad\r\n",
    "- 解决：学习率过大无法收敛\r\n",
    "- 学习率衰减算法\r\n",
    "- h= h+梯度平方 即之前所有时刻的平方和\r\n",
    "- 学习率η = lr/sqrt(h)\r\n",
    "- 无穷次更新后趋于0，解决办法遗忘过去很远的梯度，RMSProp方法"
   ],
   "metadata": {}
  },
  {
   "cell_type": "code",
   "execution_count": null,
   "source": [
    "class AdaGrad:\r\n",
    "\r\n",
    "    def __init__(self,lr=0.01):\r\n",
    "        self.lr = lr\r\n",
    "        self.h =None\r\n",
    "    \r\n",
    "    def update(self,params,grads):\r\n",
    "        if self.h == None:\r\n",
    "            self.h = {}\r\n",
    "            for key,val in self.params.items():\r\n",
    "                self.h[key] = np.zeros_like(val)\r\n",
    "            \r\n",
    "        for key in params.keys():\r\n",
    "            self.h[key] += grads[key]*grads[key]\r\n",
    "            self.params[key] -= self.lr*grads[key]/(np.sqrt(self.h[key])+1e-7)\r\n",
    "        "
   ],
   "outputs": [],
   "metadata": {}
  },
  {
   "cell_type": "markdown",
   "source": [
    "## 6.1.4 Adam\r\n",
    "- 损失函数优化\r\n",
    "- 标准梯度下降：负梯度方向，全样本计算，局部最小值，鞍点，计算量大，速度慢\r\n",
    "- 随机梯度下降：每次随机选取一个样本作为梯度的代表更新参数，波动非常大\r\n",
    "- 批量梯度下降：每次选取100各样本进行梯度下降计算，缓解波动\r\n",
    "- Momentum ：  解决之字形更新，波动更小，两次更新之间会对冲, 增加了速度变量\r\n",
    "- Nestero:梯度加速法，提前减速，预测下次参数Wn=Wn-1-αVn-1，利用预测的损失函数求梯度进行更新\r\n",
    "- AdaGrad ：学习率衰减，效率偏低，波动大于momentum\r\n",
    "- AdaDelta: 解决AdaGrad中h过大不再更新问题，移动平均 h = βh(-1)+（1-β）grads^2 ，越远越容易被遗忘\r\n",
    "- Adam: 对速度变量和梯度一阶矩和二阶矩做移动平均得到V1,V2,V3... 希望更新速度为历史上所有梯度的移动平均\r\n",
    "- Adamax：一阶矩处理类似于Adam，不使用二阶矩，用历史梯度最大值来确定学习率的大小\r\n",
    "- Nadam : Nestero+Adam ,速度变量用预测的梯度进行更新，移动平均处理不更新问题"
   ],
   "metadata": {}
  },
  {
   "cell_type": "markdown",
   "source": [
    "# 6.2 权重的初始值\r\n",
    "- 解决无效学习问题：\r\n",
    "- 权重的初始值: 生成参数的分布的方差，会影响激活函数的分布\r\n",
    "- 设置错误，会使激活函数趋于某几个值，随着层数增加，梯度消失，无法更新\r\n",
    "- ReLu 激活函数 ：HE初始值  2/sqrt(n)   n为前一层神经元个数\r\n",
    "- sigmoid和tanh(双曲线)：Xavier初始值 1/sqrt(n)   n为前一层神经元个数"
   ],
   "metadata": {}
  },
  {
   "cell_type": "markdown",
   "source": [
    "# 6.3 激活值标准化\r\n",
    "- Batch Norm解决无效学习问题\r\n",
    "- 在隐藏层前或后放入一个标准化层即可\r\n",
    "- 对权重初始值具有稳定性"
   ],
   "metadata": {}
  },
  {
   "cell_type": "markdown",
   "source": [
    "# 6.4 正则化\r\n",
    "- 解决过拟合\r\n",
    "- L1、L2、L无穷进行权值衰减，防止参数过大\r\n",
    "- Dropout:随机删除神经元，确定一个比例，类似于集成学习，随机选择了不同模型"
   ],
   "metadata": {}
  },
  {
   "cell_type": "markdown",
   "source": [
    "# 6.5 超参数的验证\r\n",
    "- 训练集、验证集、测试集划分\r\n",
    "- 设定超参数的合理范围：如批量大小，太小不适合并行利用计算资源，太大，消耗内存\r\n",
    "- 在验证集上进行学习，验证评估精度，epoch设置很小\r\n",
    "- 重复上述步骤，根据上述评估结果缩小参数范围\r\n",
    "- 选出最优的参数"
   ],
   "metadata": {}
  }
 ],
 "metadata": {
  "orig_nbformat": 4,
  "language_info": {
   "name": "python"
  }
 },
 "nbformat": 4,
 "nbformat_minor": 2
}