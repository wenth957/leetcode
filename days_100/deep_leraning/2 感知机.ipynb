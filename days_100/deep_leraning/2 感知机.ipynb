{
 "cells": [
  {
   "cell_type": "markdown",
   "metadata": {},
   "source": [
    "# 2.1 什么是感知机\n",
    " - 接受多个输入信号，输出一个信号\n",
    " - 神经元：对输入的信号进行加权，如果加权数满足某一条件则输入1，否则输出0\n",
    " - 权重代表了信号的重要程度"
   ]
  },
  {
   "cell_type": "markdown",
   "metadata": {},
   "source": [
    "# 2.1.1 与或非\n",
    "- 与门：只有两个输入都为1时才输出1，其他情况输出0\n",
    "- 与非门：颠倒与门输出情况，只有两个输入都为1时才输出0，否则输出1\n",
    "- 或门： 只要有一个输入为1，那么输出1，只有全部输入为0，才输出0\n",
    "- 只要调整感知机的参数即可实现感知机在不同门之间的切换\n",
    "- 参数调整交给计算机来做，让计算机决定是那种门\n",
    "- 异或门：只有一个输入为1时，才会输入1，两个输入为1时，输出0"
   ]
  },
  {
   "cell_type": "code",
   "execution_count": 2,
   "metadata": {},
   "outputs": [
    {
     "name": "stdout",
     "output_type": "stream",
     "text": [
      "1\n",
      "0\n",
      "0\n",
      "0\n"
     ]
    }
   ],
   "source": [
    "# python 实现与门\n",
    "\n",
    "\n",
    "def AND(x1,x2):\n",
    "    '''与门的实现'''\n",
    "    w1,w2,theta = 0.5,0.5,0.7\n",
    "    tmp = x1*w1+x2*w2\n",
    "    if tmp<=theta:\n",
    "        return 0\n",
    "    elif tmp>theta:\n",
    "        return 1\n",
    "\n",
    "\n",
    "# 测试函数\n",
    "print(AND(1,1))\n",
    "print(AND(0,0))\n",
    "print(AND(1,0))\n",
    "print(AND(0,1))"
   ]
  },
  {
   "cell_type": "code",
   "execution_count": 6,
   "metadata": {},
   "outputs": [
    {
     "name": "stdout",
     "output_type": "stream",
     "text": [
      "1\n",
      "0\n",
      "0\n",
      "0\n"
     ]
    }
   ],
   "source": [
    "# 使用偏置 和numpy实现\n",
    "\n",
    "def AND(x1,x2):\n",
    "    import numpy as np\n",
    "\n",
    "    x = np.array([x1,x2])\n",
    "    w = np.array([0.5,0.5])\n",
    "    b = -0.7  # 阈值，调整神经元被激活的容易程度\n",
    "    tmp = np.sum(w*x) +b\n",
    "    if tmp<=0:\n",
    "        return 0\n",
    "    elif tmp>0:\n",
    "        return 1\n",
    "\n",
    "# 测试\n",
    "print(AND(1,1))\n",
    "print(AND(0,0))\n",
    "print(AND(1,0))\n",
    "print(AND(0,1))"
   ]
  },
  {
   "cell_type": "code",
   "execution_count": 4,
   "metadata": {},
   "outputs": [
    {
     "name": "stdout",
     "output_type": "stream",
     "text": [
      "0\n",
      "1\n",
      "1\n",
      "1\n"
     ]
    }
   ],
   "source": [
    "# 与非门\n",
    "# 输出正好相反,权重和偏置互为相反数即可\n",
    "\n",
    "def NAND(x1,x2):\n",
    "    '''与非门'''\n",
    "    import numpy as np\n",
    "\n",
    "    x = np.array([x1,x2])\n",
    "    w = np.array([-0.5,-0.5])\n",
    "    b = 0.7\n",
    "    tmp = np.sum(w*x)+b\n",
    "    if tmp <=0:\n",
    "        return 0\n",
    "    elif tmp>0:\n",
    "        return 1\n",
    "\n",
    "# 测试\n",
    "print(NAND(1,1))\n",
    "print(NAND(1,0))\n",
    "print(NAND(0,1))\n",
    "print(NAND(0,0))"
   ]
  },
  {
   "cell_type": "code",
   "execution_count": 22,
   "metadata": {},
   "outputs": [
    {
     "data": {
      "text/plain": [
       "1"
      ]
     },
     "execution_count": 22,
     "metadata": {},
     "output_type": "execute_result"
    }
   ],
   "source": [
    "# 或门：偏置绝对值小于0.5即可\n",
    "def OR(x1,x2):\n",
    "    import numpy as np\n",
    "    \n",
    "    x = np.array([x1,x2])\n",
    "    w = np.array([0.5,0.5])   # 只要不是两个输入都去0,  就输出1\n",
    "    b = -0.2 \n",
    "    tmp = np.sum(w*x)+b\n",
    "    if tmp<=0:\n",
    "        return 0\n",
    "    else:\n",
    "        return 1\n",
    "\n",
    "\n",
    "OR(1,1)\n",
    "OR(0,1)\n",
    "OR(1,0)\n",
    "OR(1,1)"
   ]
  },
  {
   "cell_type": "code",
   "execution_count": 26,
   "metadata": {},
   "outputs": [
    {
     "data": {
      "text/plain": [
       "1"
      ]
     },
     "execution_count": 26,
     "metadata": {},
     "output_type": "execute_result"
    }
   ],
   "source": [
    "# 异或门：用直线无法分开\n",
    "# 引入非线性：叠加层的感知机\n",
    "# 经过与非门得到S1  或门得到S2 可以看到二者通过与门即可到的异或门的结果\n",
    "# 多层感知机，存在多个线性分类器，通过与门即可实现对非线性的拟合\n",
    "def XOR(x1,x2):\n",
    "    s1 = NAND(x1,x2)\n",
    "    s2 = OR(x1,x2)\n",
    "    y = AND(s1,s2)\n",
    "    return y\n",
    "\n",
    "# 测试\n",
    "XOR(1,1)\n",
    "XOR(0,0)\n",
    "XOR(1,0)\n",
    "XOR(0,1)"
   ]
  }
 ],
 "metadata": {
  "interpreter": {
   "hash": "4c608323a731a545a36c8aa291ada9a8a1cb7d2b24e85fe896155454c9c49240"
  },
  "kernelspec": {
   "display_name": "Python 3.8.8 64-bit ('base': conda)",
   "name": "python3"
  },
  "language_info": {
   "codemirror_mode": {
    "name": "ipython",
    "version": 3
   },
   "file_extension": ".py",
   "mimetype": "text/x-python",
   "name": "python",
   "nbconvert_exporter": "python",
   "pygments_lexer": "ipython3",
   "version": "3.8.8"
  },
  "orig_nbformat": 4
 },
 "nbformat": 4,
 "nbformat_minor": 2
}
